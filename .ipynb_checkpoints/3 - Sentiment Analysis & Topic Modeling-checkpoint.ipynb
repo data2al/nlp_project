{
 "cells": [
  {
   "cell_type": "markdown",
   "metadata": {},
   "source": [
    "## Sentiment Analysis"
   ]
  },
  {
   "cell_type": "code",
   "execution_count": 4,
   "metadata": {},
   "outputs": [
    {
     "data": {
      "text/html": [
       "<div>\n",
       "<style scoped>\n",
       "    .dataframe tbody tr th:only-of-type {\n",
       "        vertical-align: middle;\n",
       "    }\n",
       "\n",
       "    .dataframe tbody tr th {\n",
       "        vertical-align: top;\n",
       "    }\n",
       "\n",
       "    .dataframe thead th {\n",
       "        text-align: right;\n",
       "    }\n",
       "</style>\n",
       "<table border=\"1\" class=\"dataframe\">\n",
       "  <thead>\n",
       "    <tr style=\"text-align: right;\">\n",
       "      <th></th>\n",
       "      <th>transcript</th>\n",
       "      <th>full_name</th>\n",
       "    </tr>\n",
       "  </thead>\n",
       "  <tbody>\n",
       "    <tr>\n",
       "      <th>Barack Obama2010</th>\n",
       "      <td>Madam Speaker, Vice President Biden, Members o...</td>\n",
       "      <td>Barack Obama2010</td>\n",
       "    </tr>\n",
       "    <tr>\n",
       "      <th>Barack Obama2011</th>\n",
       "      <td>Mr. Speaker, Mr. Vice President, members of Co...</td>\n",
       "      <td>Barack Obama2011</td>\n",
       "    </tr>\n",
       "    <tr>\n",
       "      <th>Barack Obama2012</th>\n",
       "      <td>Mr. Speaker, Mr. Vice President, members of C...</td>\n",
       "      <td>Barack Obama2012</td>\n",
       "    </tr>\n",
       "    <tr>\n",
       "      <th>Barack Obama2013</th>\n",
       "      <td>\\r\\nMr. Speaker, Mr. Vice President, members o...</td>\n",
       "      <td>Barack Obama2013</td>\n",
       "    </tr>\n",
       "  </tbody>\n",
       "</table>\n",
       "</div>"
      ],
      "text/plain": [
       "                                                         transcript  \\\n",
       "Barack Obama2010  Madam Speaker, Vice President Biden, Members o...   \n",
       "Barack Obama2011  Mr. Speaker, Mr. Vice President, members of Co...   \n",
       "Barack Obama2012   Mr. Speaker, Mr. Vice President, members of C...   \n",
       "Barack Obama2013  \\r\\nMr. Speaker, Mr. Vice President, members o...   \n",
       "\n",
       "                         full_name  \n",
       "Barack Obama2010  Barack Obama2010  \n",
       "Barack Obama2011  Barack Obama2011  \n",
       "Barack Obama2012  Barack Obama2012  \n",
       "Barack Obama2013  Barack Obama2013  "
      ]
     },
     "execution_count": 4,
     "metadata": {},
     "output_type": "execute_result"
    }
   ],
   "source": [
    "import pandas as pd\n",
    "\n",
    "data = pd.read_pickle('corpus.pkl')\n",
    "data[:4]"
   ]
  },
  {
   "cell_type": "code",
   "execution_count": 5,
   "metadata": {},
   "outputs": [
    {
     "data": {
      "text/html": [
       "<div>\n",
       "<style scoped>\n",
       "    .dataframe tbody tr th:only-of-type {\n",
       "        vertical-align: middle;\n",
       "    }\n",
       "\n",
       "    .dataframe tbody tr th {\n",
       "        vertical-align: top;\n",
       "    }\n",
       "\n",
       "    .dataframe thead th {\n",
       "        text-align: right;\n",
       "    }\n",
       "</style>\n",
       "<table border=\"1\" class=\"dataframe\">\n",
       "  <thead>\n",
       "    <tr style=\"text-align: right;\">\n",
       "      <th></th>\n",
       "      <th>transcript</th>\n",
       "      <th>full_name</th>\n",
       "      <th>polarity</th>\n",
       "      <th>subjectivity</th>\n",
       "    </tr>\n",
       "  </thead>\n",
       "  <tbody>\n",
       "    <tr>\n",
       "      <th>Barack Obama2010</th>\n",
       "      <td>Madam Speaker, Vice President Biden, Members o...</td>\n",
       "      <td>Barack Obama2010</td>\n",
       "      <td>0.083579</td>\n",
       "      <td>0.428497</td>\n",
       "    </tr>\n",
       "    <tr>\n",
       "      <th>Barack Obama2011</th>\n",
       "      <td>Mr. Speaker, Mr. Vice President, members of Co...</td>\n",
       "      <td>Barack Obama2011</td>\n",
       "      <td>0.152374</td>\n",
       "      <td>0.418489</td>\n",
       "    </tr>\n",
       "    <tr>\n",
       "      <th>Barack Obama2012</th>\n",
       "      <td>Mr. Speaker, Mr. Vice President, members of C...</td>\n",
       "      <td>Barack Obama2012</td>\n",
       "      <td>0.124897</td>\n",
       "      <td>0.409874</td>\n",
       "    </tr>\n",
       "    <tr>\n",
       "      <th>Barack Obama2013</th>\n",
       "      <td>\\r\\nMr. Speaker, Mr. Vice President, members o...</td>\n",
       "      <td>Barack Obama2013</td>\n",
       "      <td>0.153017</td>\n",
       "      <td>0.435735</td>\n",
       "    </tr>\n",
       "  </tbody>\n",
       "</table>\n",
       "</div>"
      ],
      "text/plain": [
       "                                                         transcript  \\\n",
       "Barack Obama2010  Madam Speaker, Vice President Biden, Members o...   \n",
       "Barack Obama2011  Mr. Speaker, Mr. Vice President, members of Co...   \n",
       "Barack Obama2012   Mr. Speaker, Mr. Vice President, members of C...   \n",
       "Barack Obama2013  \\r\\nMr. Speaker, Mr. Vice President, members o...   \n",
       "\n",
       "                         full_name  polarity  subjectivity  \n",
       "Barack Obama2010  Barack Obama2010  0.083579      0.428497  \n",
       "Barack Obama2011  Barack Obama2011  0.152374      0.418489  \n",
       "Barack Obama2012  Barack Obama2012  0.124897      0.409874  \n",
       "Barack Obama2013  Barack Obama2013  0.153017      0.435735  "
      ]
     },
     "execution_count": 5,
     "metadata": {},
     "output_type": "execute_result"
    }
   ],
   "source": [
    "from textblob import TextBlob\n",
    "\n",
    "pol = lambda x: TextBlob(x).sentiment.polarity\n",
    "sub = lambda x: TextBlob(x).sentiment.subjectivity\n",
    "\n",
    "data['polarity'] = data['transcript'].apply(pol)\n",
    "data['subjectivity'] = data['transcript'].apply(sub)\n",
    "data[:4]"
   ]
  }
 ],
 "metadata": {
  "kernelspec": {
   "display_name": "Python 3",
   "language": "python",
   "name": "python3"
  },
  "language_info": {
   "codemirror_mode": {
    "name": "ipython",
    "version": 3
   },
   "file_extension": ".py",
   "mimetype": "text/x-python",
   "name": "python",
   "nbconvert_exporter": "python",
   "pygments_lexer": "ipython3",
   "version": "3.7.5"
  }
 },
 "nbformat": 4,
 "nbformat_minor": 2
}
