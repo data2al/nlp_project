{
 "cells": [
  {
   "cell_type": "code",
   "execution_count": 1,
   "metadata": {},
   "outputs": [],
   "source": [
    "# load main dictionaries for text summarization\n",
    "from nltk.corpus import stopwords\n",
    "from nltk.cluster.util import cosine_distance\n",
    "import numpy as np\n",
    "import networkx as nx"
   ]
  },
  {
   "cell_type": "code",
   "execution_count": 2,
   "metadata": {},
   "outputs": [],
   "source": [
    "# generate speech list\n",
    "speech_list = ['John F. Kennedy_1961', 'John F. Kennedy_1962', 'John F. Kennedy_1963', 'Lyndon B. Johnson_1964', 'Lyndon B. Johnson_1965', 'Lyndon B. Johnson_1966', 'Lyndon B. Johnson_1967', 'Lyndon B. Johnson_1968', 'Lyndon B. Johnson_1969', 'Richard M. Nixon_1970', 'Richard M. Nixon_1971', 'Richard M. Nixon_1972', 'Richard M. Nixon_1974', 'Gerald Ford_1975', 'Gerald Ford_1976', 'Gerald Ford_1977', 'Jimmy Carter_1978', 'Jimmy Carter_1979', 'Jimmy Carter_1980', 'Ronald Reagan_1982', 'Ronald Reagan_1983', 'Ronald Reagan_1984', 'Ronald Reagan_1985', 'Ronald Reagan_1986', 'Ronald Reagan_1987', 'Ronald Reagan_1988', 'George H.W. Bush_1990', 'George H.W. Bush_1991', 'George H.W. Bush_1992', 'Bill Clinton_1994', 'Bill Clinton_1995', 'Bill Clinton_1996', 'Bill Clinton_1997', 'Bill Clinton_1998', 'Bill Clinton_1999', 'Bill Clinton_2000', 'George W. Bush_2002', 'George W. Bush_2003', 'George W. Bush_2004', 'George W. Bush_2005', 'George W. Bush_2006', 'George W. Bush_2007', 'George W. Bush_2008', 'Barack Obama_2010', 'Barack Obama_2011', 'Barack Obama_2012', 'Barack Obama_2013', 'Barack Obama_2014', 'Barack Obama_2015', 'Barack Obama_2016', 'Donald Trump_2018', 'Donald Trump_2019']"
   ]
  },
  {
   "cell_type": "code",
   "execution_count": 3,
   "metadata": {},
   "outputs": [],
   "source": [
    "import pickle\n",
    "\n",
    "# load all the transcripts again into a self-created dictionary called data \n",
    "data = {}\n",
    "for i, c in enumerate(speech_list):\n",
    "    with open(\"transcripts/\" + c + \".txt\", \"rb\") as file:\n",
    "        data[c] = pickle.load(file)"
   ]
  },
  {
   "cell_type": "code",
   "execution_count": 4,
   "metadata": {},
   "outputs": [
    {
     "data": {
      "text/plain": [
       "dict_keys(['John F. Kennedy_1961', 'John F. Kennedy_1962', 'John F. Kennedy_1963', 'Lyndon B. Johnson_1964', 'Lyndon B. Johnson_1965', 'Lyndon B. Johnson_1966', 'Lyndon B. Johnson_1967', 'Lyndon B. Johnson_1968', 'Lyndon B. Johnson_1969', 'Richard M. Nixon_1970', 'Richard M. Nixon_1971', 'Richard M. Nixon_1972', 'Richard M. Nixon_1974', 'Gerald Ford_1975', 'Gerald Ford_1976', 'Gerald Ford_1977', 'Jimmy Carter_1978', 'Jimmy Carter_1979', 'Jimmy Carter_1980', 'Ronald Reagan_1982', 'Ronald Reagan_1983', 'Ronald Reagan_1984', 'Ronald Reagan_1985', 'Ronald Reagan_1986', 'Ronald Reagan_1987', 'Ronald Reagan_1988', 'George H.W. Bush_1990', 'George H.W. Bush_1991', 'George H.W. Bush_1992', 'Bill Clinton_1994', 'Bill Clinton_1995', 'Bill Clinton_1996', 'Bill Clinton_1997', 'Bill Clinton_1998', 'Bill Clinton_1999', 'Bill Clinton_2000', 'George W. Bush_2002', 'George W. Bush_2003', 'George W. Bush_2004', 'George W. Bush_2005', 'George W. Bush_2006', 'George W. Bush_2007', 'George W. Bush_2008', 'Barack Obama_2010', 'Barack Obama_2011', 'Barack Obama_2012', 'Barack Obama_2013', 'Barack Obama_2014', 'Barack Obama_2015', 'Barack Obama_2016', 'Donald Trump_2018', 'Donald Trump_2019'])"
      ]
     },
     "execution_count": 4,
     "metadata": {},
     "output_type": "execute_result"
    }
   ],
   "source": [
    "# look at the keys within data\n",
    "data.keys()"
   ]
  },
  {
   "cell_type": "code",
   "execution_count": 5,
   "metadata": {},
   "outputs": [
    {
     "data": {
      "text/plain": [
       "['Thank you very much. Mr. Speaker, Vice President Cheney, members of Congress, distinguished guests, fellow citizens:',\n",
       " 'As we gather tonight, our nation is at war; our economy is in recession; and the civilized world faces unprecedented dangers. Yet, the state of our Union has never been stronger.',\n",
       " \"We last met in an hour of shock and suffering. In four short months, our nation has comforted the victims, begun to rebuild New York and the Pentagon, rallied a great coalition, captured, arrested, and rid the world of thousands of terrorists, destroyed Afghanistan's terrorist training camps, saved a people from starvation, and freed a country from brutal oppression.\"]"
      ]
     },
     "execution_count": 5,
     "metadata": {},
     "output_type": "execute_result"
    }
   ],
   "source": [
    "# Check the first 3 lines of George H.W. Bush 1990 speech to confirm everything is correct\n",
    "data['George W. Bush_2002'][:3]"
   ]
  },
  {
   "cell_type": "code",
   "execution_count": 6,
   "metadata": {},
   "outputs": [],
   "source": [
    "##import re\n",
    "##def clean_text_round2(text):\n",
    "##    text = re.sub('[‘’“”…]', '', text)\n",
    "##    text = re.sub('\\n', '', text)\n",
    "##    text = re.sub('\\r','',text)\n",
    "##    text = re.sub('\\u2011','',text)\n",
    "##    return text\n",
    "\n",
    "## round2 = lambda x: clean_text_round2(x)"
   ]
  },
  {
   "cell_type": "code",
   "execution_count": 7,
   "metadata": {},
   "outputs": [],
   "source": [
    "## data['Barack Obama_2014'] = clean_text_round2(str(data['Barack Obama_2014']))"
   ]
  },
  {
   "cell_type": "code",
   "execution_count": 8,
   "metadata": {},
   "outputs": [],
   "source": [
    "# save files we'd like to summarize as txt format\n",
    "file1 = open(\"myfile.txt\",\"w\") \n",
    "L = data['George W. Bush_2002']\n",
    "  \n",
    "# \\n is placed to indicate EOL (End of Line) \n",
    "file1.writelines(L) \n",
    "file1.close() #to change file access modes "
   ]
  },
  {
   "cell_type": "code",
   "execution_count": 9,
   "metadata": {},
   "outputs": [],
   "source": [
    "def read_article(file_name):\n",
    "    file = open(file_name, \"r\")\n",
    "    filedata = file.readlines()\n",
    "    article = filedata[0].split(\". \")\n",
    "    sentences = []\n",
    "\n",
    "    for sentence in article:\n",
    "        print(sentence)\n",
    "        sentences.append(sentence.replace(\"[^a-zA-Z]\", \" \").split(\" \"))\n",
    "    sentences.pop() \n",
    "    \n",
    "    return sentences"
   ]
  },
  {
   "cell_type": "code",
   "execution_count": 10,
   "metadata": {},
   "outputs": [],
   "source": [
    "def sentence_similarity(sent1, sent2, stopwords=None):\n",
    "    if stopwords is None:\n",
    "        stopwords = []\n",
    " \n",
    "    sent1 = [w.lower() for w in sent1]\n",
    "    sent2 = [w.lower() for w in sent2]\n",
    " \n",
    "    all_words = list(set(sent1 + sent2))\n",
    " \n",
    "    vector1 = [0] * len(all_words)\n",
    "    vector2 = [0] * len(all_words)\n",
    " \n",
    "    # build the vector for the first sentence\n",
    "    for w in sent1:\n",
    "        if w in stopwords:\n",
    "            continue\n",
    "        vector1[all_words.index(w)] += 1\n",
    " \n",
    "    # build the vector for the second sentence\n",
    "    for w in sent2:\n",
    "        if w in stopwords:\n",
    "            continue\n",
    "        vector2[all_words.index(w)] += 1\n",
    " \n",
    "    return 1 - cosine_distance(vector1, vector2)"
   ]
  },
  {
   "cell_type": "code",
   "execution_count": 11,
   "metadata": {},
   "outputs": [],
   "source": [
    "def build_similarity_matrix(sentences, stop_words):\n",
    "    # Create an empty similarity matrix\n",
    "    similarity_matrix = np.zeros((len(sentences), len(sentences)))\n",
    " \n",
    "    for idx1 in range(len(sentences)):\n",
    "        for idx2 in range(len(sentences)):\n",
    "            if idx1 == idx2: #ignore if both are same sentences\n",
    "                continue \n",
    "            similarity_matrix[idx1][idx2] = sentence_similarity(sentences[idx1], sentences[idx2], stop_words)\n",
    "\n",
    "    return similarity_matrix"
   ]
  },
  {
   "cell_type": "code",
   "execution_count": 12,
   "metadata": {},
   "outputs": [],
   "source": [
    "def generate_summary(file_name, top_n=5):\n",
    "    stop_words = stopwords.words('english')\n",
    "    summarize_text = []\n",
    "\n",
    "    # Step 1 - Read text anc split it\n",
    "    sentences =  read_article(file_name)\n",
    "\n",
    "    # Step 2 - Generate Similary Martix across sentences\n",
    "    sentence_similarity_martix = build_similarity_matrix(sentences, stop_words)\n",
    "\n",
    "    # Step 3 - Rank sentences in similarity martix\n",
    "    sentence_similarity_graph = nx.from_numpy_array(sentence_similarity_martix)\n",
    "    scores = nx.pagerank(sentence_similarity_graph)\n",
    "\n",
    "    # Step 4 - Sort the rank and pick top sentences\n",
    "    ranked_sentence = sorted(((scores[i],s) for i,s in enumerate(sentences)), reverse=True)    \n",
    "    print(\"Indexes of top ranked_sentence order are \", ranked_sentence)    \n",
    "\n",
    "    for i in range(top_n):\n",
    "      summarize_text.append(\" \".join(ranked_sentence[i][1]))\n",
    "\n",
    "    # Step 5 - Offcourse, output the summarize texr\n",
    "    print(\"Summarize Text: \\n\", \". \".join(summarize_text))"
   ]
  },
  {
   "cell_type": "code",
   "execution_count": 13,
   "metadata": {},
   "outputs": [
    {
     "name": "stdout",
     "output_type": "stream",
     "text": [
      "Thank you very much\n",
      "Mr\n",
      "Speaker, Vice President Cheney, members of Congress, distinguished guests, fellow citizens:As we gather tonight, our nation is at war; our economy is in recession; and the civilized world faces unprecedented dangers\n",
      "Yet, the state of our Union has never been stronger.We last met in an hour of shock and suffering\n",
      "In four short months, our nation has comforted the victims, begun to rebuild New York and the Pentagon, rallied a great coalition, captured, arrested, and rid the world of thousands of terrorists, destroyed Afghanistan's terrorist training camps, saved a people from starvation, and freed a country from brutal oppression.The American flag flies again over our embassy in Kabul\n",
      "Terrorists who once occupied Afghanistan now occupy cells at Guantanamo Bay\n",
      "And terrorist leaders who urged followers to sacrifice their lives are running for their own.America and Afghanistan are now allies against terror\n",
      "We'll be partners in rebuilding that country\n",
      "And this evening we welcomed the distinguished interim leader of a liberated Afghanistan, Chairman Hamid Karzai.The last time we met in this chamber, the mothers and daughters of Afghanistan were captives in their own homes, forbidden from working or going to school\n",
      "Today women are free and are part of Afghanistan's new government\n",
      "And we welcome the new Minister of Women's Affairs, Dr\n",
      "Sima Samar.Our progress is a tribute to the spirit of the Afghan people, to the resolve of our coalition, and to the might of the United States military\n",
      "When I called our troops into action, I did so with complete confidence in their courage and skill\n",
      "And tonight, thanks to them, we are winning the war on terror\n",
      "The men and women of our armed forces have delivered a message now clear to every enemy of the United States: Even 7,000 miles away, across oceans and continents, on mountaintops and in caves, you will not escape the justice of this nation.For many Americans, these four months have brought sorrow and pain that will never completely go away\n",
      "Every day a retired firefighter returns to Ground Zero to feel closer to his two sons who died there\n",
      "At a memorial in New York, a little boy left his football with a note for his lost father: \"Dear Daddy, please take this to heaven\n",
      "I don't want to play football until I can play with you again some day.\"Last month, at the grave of her husband, Micheal, a CIA officer and marine who died in Mazar-e-Sharif, Shannon Spann said these words of farewell, \"Semper Fi, my love.\" Shannon is with us tonight\n",
      "Shannon, I assure you and all who have lost a loved one that our cause is just, and our country will never forget the debt we owe Micheal and all who gave their lives for freedom.Our cause is just, and it continues\n",
      "Our discoveries in Afghanistan confirmed our worst fears and showed us the true scope of the task ahead\n",
      "We have seen the depth of our enemies' hatred in videos where they laugh about the loss of innocent life\n",
      "And the depth of their hatred is equaled by the madness of the destruction they design\n",
      "We have found diagrams of American nuclear powerplants and public water facilities, detailed instructions for making chemical weapons, surveillance maps of American cities, and thorough descriptions of landmarks in America and throughout the world.What we have found in Afghanistan confirms that, far from ending there, our war against terror is only beginning\n",
      "Most of the 19 men who hijacked planes on September 11 were trained in Afghanistan's camps, and so were tens of thousands of others\n",
      "Thousands of dangerous killers, schooled in the methods of murder, often supported by outlaw regimes, are now spread throughout the world like ticking timebombs, set to go off without warning.Thanks to the work of our law enforcement officials and coalition partners, hundreds of terrorists have been arrested\n",
      "Yet, tens of thousands of trained terrorists are still at large\n",
      "These enemies view the entire world as a battlefield, and we must pursue them wherever they are\n",
      "So long as training camps operate, so long as nations harbor terrorists, freedom is at risk\n",
      "And America and our allies must not and will not allow it.Our nation will continue to be steadfast and patient and persistent in the pursuit of two great objectives\n",
      "First, we will shut down terrorist camps, disrupt terrorist plans, and bring terrorists to justice\n",
      "And second, we must prevent the terrorists and regimes who seek chemical, biological, or nuclear weapons from threatening the United States and the world.Our military has put the terror training camps of Afghanistan out of business, yet camps still exist in at least a dozen countries\n",
      "A terrorist underworld, including groups like Hamas, Hezbollah, Islamic Jihad, Jaish-e-Mohammed, operates in remote jungles and deserts and hides in the centers of large cities.While the most visible military action is in Afghanistan, America is acting elsewhere\n",
      "We now have troops in the Philippines, helping to train that country's armed forces to go after terrorist cells that have executed an American and still hold hostages\n",
      "Our soldiers, working with the Bosnian government, seized terrorists who were plotting to bomb our embassy\n",
      "Our Navy is patrolling the coast of Africa to block the shipment of weapons and the establishment of terrorist camps in Somalia.My hope is that all nations will heed our call and eliminate the terrorist parasites who threaten their countries and our own\n",
      "Many nations are acting forcefully\n",
      "Pakistan is now cracking down on terror, and I admire the strong leadership of President Musharraf\n",
      "But some governments will be timid in the face of terror\n",
      "And make no mistake about it: If they do not act, America will.Our second goal is to prevent regimes that sponsor terror from threatening America or our friends and allies with weapons of mass destruction\n",
      "Some of these regimes have been pretty quiet since September 11, but we know their true nature.North Korea is a regime arming with missiles and weapons of mass destruction, while starving its citizens.Iran aggressively pursues these weapons and exports terror, while an unelected few repress the Iranian people's hope for freedom.Iraq continues to flaunt its hostility toward America and to support terror\n",
      "The Iraqi regime has plotted to develop anthrax and nerve gas and nuclear weapons for over a decade\n",
      "This is a regime that has already used poison gas to murder thousands of its own citizens, leaving the bodies of mothers huddled over their dead children\n",
      "This is a regime that agreed to international inspections, then kicked out the inspectors\n",
      "This is a regime that has something to hide from the civilized world.States like these and their terrorist allies constitute an axis of evil, arming to threaten the peace of the world\n",
      "By seeking weapons of mass destruction, these regimes pose a grave and growing danger\n",
      "They could provide these arms to terrorists, giving them the means to match their hatred\n",
      "They could attack our allies or attempt to blackmail the United States\n",
      "In any of these cases, the price of indifference would be catastrophic.We will work closely with our coalition to deny terrorists and their state sponsors the materials, technology, and expertise to make and deliver weapons of mass destruction\n",
      "We will develop and deploy effective missile defenses to protect America and our allies from sudden attack\n",
      "And all nations should know: America will do what is necessary to ensure our nation's security.We'll be deliberate; yet, time is not on our side\n",
      "I will not wait on events while dangers gather\n",
      "I will not stand by as peril draws closer and closer\n",
      "The United States of America will not permit the world's most dangerous regimes to threaten us with the world's most destructive weapons.Our war on terror is well begun, but it is only begun\n",
      "This campaign may not be finished on our watch; yet, it must be and it will be waged on our watch\n",
      "We can't stop short\n",
      "If we stop now, leaving terror camps intact and terrorist states unchecked, our sense of security would be false and temporary\n",
      "History has called America and our allies to action, and it is both our responsibility and our privilege to fight freedom's fight.Our first priority must always be the security of our nation, and that will be reflected in the budget I send to Congress\n",
      "My budget supports three great goals for America: We will win this war; we will protect our homeland; and we will revive our economy.September 11 brought out the best in America and the best in this Congress\n",
      "And I join the American people in applauding your unity and resolve\n",
      "Now Americans deserve to have this same spirit directed toward addressing problems here at home\n",
      "I'm a proud member of my party\n",
      "Yet as we act to win the war, protect our people, and create jobs in America, we must act, first and foremost, not as Republicans, not as Democrats but as Americans.It costs a lot to fight this war\n",
      "We have spent more than $1 billion a month, over $30 million a day, and we must be prepared for future operations\n",
      "Afghanistan proved that expensive precision weapons defeat the enemy and spare innocent lives, and we need more of them\n",
      "We need to replace aging aircraft and make our military more agile to put our troops anywhere in the world quickly and safely\n",
      "Our men and women in uniform deserve the best weapons, the best equipment, the best training, and they also deserve another pay raise.My budget includes the largest increase in defense spending in two decades, because while the price of freedom and security is high, it is never too high\n",
      "Whatever it costs to defend our country, we will pay.The next priority of my budget is to do everything possible to protect our citizens and strengthen our nation against the ongoing threat of another attack\n",
      "Time and distance from the events of September 11 will not make us safer unless we act on its lessons\n",
      "America is no longer protected by vast oceans\n",
      "We are protected from attack only by vigorous action abroad and increased vigilance at home.My budget nearly doubles funding for a sustained strategy of homeland security, focused on four key areas: bioterrorism, emergency response, airport and border security, and improved intelligence\n",
      "We will develop vaccines to fight anthrax and other deadly diseases\n",
      "We'll increase funding to help states and communities train and equip our heroic police and firefighters\n",
      "We will improve intelligence collection and sharing, expand patrols at our borders, strengthen the security of air travel, and use technology to track the arrivals and departures of visitors to the United States.Homeland security will make America not only stronger but, in many ways, better\n",
      "Knowledge gained from bioterrorism research will improve public health\n",
      "Stronger police and fire departments will mean safer neighborhoods\n",
      "Stricter border enforcement will help combat illegal drugs\n",
      "And as government works to better secure our homeland, America will continue to depend on the eyes and ears of alert citizens.A few days before Christmas, an airline flight attendant spotted a passenger lighting a match\n",
      "The crew and passengers quickly subdued the man, who had been trained by Al Qaeda and was armed with explosives\n",
      "The people on that plane were alert and, as a result, likely saved nearly 200 lives\n",
      "And tonight we welcome and thank flight attendants Hermis Moutardier and Christina Jones.Once we have funded our national security and our homeland security, the final great priority of my budget is economic security for the American people\n",
      "To achieve these great national objectives—to win the war, protect the homeland, and revitalize our economy—our budget will run a deficit that will be small and short term, so long as Congress restrains spending and acts in a fiscally responsible manner\n",
      "We have clear priorities, and we must act at home with the same purpose and resolve we have shown overseas\n",
      "We'll prevail in the war, and we will defeat this recession.Americans who have lost their jobs need our help, and I support extending unemployment benefits and direct assistance for health care coverage\n",
      "Yet, American workers want more than unemployment checks; they want a steady paycheck\n",
      "When America works, America prospers, so my economic security plan can be summed up in one word: jobs.Good jobs begin with good schools, and here we've made a fine start\n",
      "Republicans and Democrats worked together to achieve historic education reform so that no child is left behind\n",
      "I was proud to work with members of both parties: Chairman John Boehner and Congressman George Miller; Senator Judd Gregg\n",
      "And I was so proud of our work, I even had nice things to say about my friend Ted Kennedy\n",
      "[Laughter] I know the folks at the Crawford coffee shop couldn't believe I'd say such a thing—[laughter]—but our work on this bill shows what is possible if we set aside posturing and focus on results.There is more to do\n",
      "We need to prepare our children to read and succeed in school with improved Head Start and early childhood development programs\n",
      "We must upgrade our teacher colleges and teacher training and launch a major recruiting drive with a great goal for America, a quality teacher in every classroom.Good jobs also depend on reliable and affordable energy\n",
      "This Congress must act to encourage conservation, promote technology, build infrastructure, and it must act to increase energy production at home so America is less dependent on foreign oil.Good jobs depend on expanded trade\n",
      "Selling into new markets creates new jobs, so I ask Congress to finally approve trade promotion authority.On these two key issues, trade and energy, the House of Representatives has acted to create jobs, and I urge the Senate to pass this legislation.Good jobs depend on sound tax policy\n",
      "Last year, some in this hall thought my tax relief plan was too small; some thought it was too big\n",
      "But when the checks arrived in the mail, most Americans thought tax relief was just about right\n",
      "Congress listened to the people and responded by reducing tax rates, doubling the child credit, and ending the death tax\n",
      "For the sake of long-term growth and to help Americans plan for the future, let's make these tax cuts permanent.The way out of this recession, the way to create jobs, is to grow the economy by encouraging investment in factories and equipment and by speeding up tax relief so people have more money to spend\n",
      "For the sake of American workers, let's pass a stimulus package.Good jobs must be the aim of welfare reform\n",
      "As we reauthorize these important reforms, we must always remember the goal is to reduce dependency on government and offer every American the dignity of a job.Americans know economic security can vanish in an instant without health security\n",
      "I ask Congress to join me this year to enact a patients' bill of rights, to give uninsured workers credits to help buy health coverage, to approve an historic increase in the spending for veterans' health, and to give seniors a sound and modern Medicare system that includes coverage for prescription drugs.A good job should lead to security in retirement\n",
      "I ask Congress to enact new safeguards for 401K and pension plans\n",
      "Employees who have worked hard and saved all their lives should not have to risk losing everything if their company fails\n",
      "Through stricter accounting standards and tougher disclosure requirements, corporate America must be made more accountable to employees and shareholders and held to the highest standards of conduct.Retirement security also depends upon keeping the commitments of Social Security, and we will\n",
      "We must make Social Security financially stable and allow personal retirement accounts for younger workers who choose them.Members, you and I will work together in the months ahead on other issues: productive farm policy; a cleaner environment; broader homeownership, especially among minorities; and ways to encourage the good work of charities and faith-based groups\n",
      "I ask you to join me on these important domestic issues in the same spirit of cooperation we've applied to our war against terrorism.During these last few months, I've been humbled and privileged to see the true character of this country in a time of testing\n",
      "Our enemies believed America was weak and materialistic, that we would splinter in fear and selfishness\n",
      "They were as wrong as they are evil.The American people have responded magnificently, with courage and compassion, strength and resolve\n",
      "As I have met the heroes, hugged the families, and looked into the tired faces of rescuers, I have stood in awe of the American people.And I hope you will join me—I hope you will join me in expressing thanks to one American for the strength and calm and comfort she brings to our nation in crisis, our First Lady, Laura Bush.None of us would ever wish the evil that was done on September 11\n",
      "Yet, after America was attacked, it was as if our entire country looked into a mirror and saw our better selves\n",
      "We were reminded that we are citizens with obligations to each other, to our country, and to history\n",
      "We began to think less of the goods we can accumulate and more about the good we can do.For too long our culture has said, \"If it feels good, do it.\" Now America is embracing a new ethic and a new creed, \"Let's roll.\" In the sacrifice of soldiers, the fierce brotherhood of firefighters, and the bravery and generosity of ordinary citizens, we have glimpsed what a new culture of responsibility could look like\n",
      "We want to be a nation that serves goals larger than self\n",
      "We've been offered a unique opportunity, and we must not let this moment pass.My call tonight is for every American to commit at least two years, 4,000 hours over the rest of your lifetime, to the service of your neighbors and your nation\n",
      "Many are already serving, and I thank you\n",
      "If you aren't sure how to help, I've got a good place to start\n",
      "To sustain and extend the best that has emerged in America, I invite you to join the new USA Freedom Corps\n",
      "The Freedom Corps will focus on three areas of need: responding in case of crisis at home; rebuilding our communities; and extending American compassion throughout the world.One purpose of the USA Freedom Corps will be homeland security\n",
      "America needs retired doctors and nurses who can be mobilized in major emergencies, volunteers to help police and fire departments, transportation and utility workers well-trained in spotting danger.Our country also needs citizens working to rebuild our communities\n",
      "We need mentors to love children, especially children whose parents are in prison\n",
      "And we need more talented teachers in troubled schools\n",
      "USA Freedom Corps will expand and improve the good efforts of AmeriCorps and Senior Corps to recruit more than 200,000 new volunteers.And America needs citizens to extend the compassion of our country to every part of the world\n",
      "So we will renew the promise of the Peace Corps, double its volunteers over the next five years, and ask it to join a new effort to encourage development and education and opportunity in the Islamic world.This time of adversity offers a unique moment of opportunity, a moment we must seize to change our culture\n",
      "Through the gathering momentum of millions of acts of service and decency and kindness, I know we can overcome evil with greater good.And we have a great opportunity during this time of war to lead the world toward the values that will bring lasting peace\n",
      "All fathers and mothers, in all societies, want their children to be educated and live free from poverty and violence\n",
      "No people on Earth yearn to be oppressed or aspire to servitude or eagerly await the midnight knock of the secret police\n",
      "If anyone doubts this, let them look to Afghanistan, where the Islamic \"street\" greeted the fall of tyranny with song and celebration\n",
      "Let the skeptics look to Islam's own rich history, with its centuries of learning and tolerance and progress\n",
      "America will lead by defending liberty and justice because they are right and true and unchanging for all people everywhere.No nation owns these aspirations, and no nation is exempt from them\n",
      "We have no intention of imposing our culture\n",
      "But America will always stand firm for the nonnegotiable demands of human dignity: the rule of law; limits on the power of the state; respect for women; private property; free speech; equal justice; and religious tolerance.America will take the side of brave men and women who advocate these values around the world, including the Islamic world, because we have a greater objective than eliminating threats and containing resentment\n",
      "We seek a just and peaceful world beyond the war on terror.In this moment of opportunity, a common danger is erasing old rivalries\n",
      "America is working with Russia and China and India, in ways we have never before, to achieve peace and prosperity\n",
      "In every region, free markets and free trade and free societies are proving their power to lift lives\n",
      "Together with friends and allies from Europe to Asia and Africa to Latin America, we will demonstrate that the forces of terror cannot stop the momentum of freedom.The last time I spoke here, I expressed the hope that life would return to normal\n",
      "In some ways, it has\n",
      "In others, it never will\n",
      "Those of us who have lived through these challenging times have been changed by them\n",
      "We've come to know truths that we will never question: Evil is real, and it must be opposed\n",
      "Beyond all differences of race or creed, we are one country, mourning together and facing danger together\n",
      "Deep in the American character, there is honor, and it is stronger than cynicism\n",
      "And many have discovered again that even in tragedy—especially in tragedy—God is near.In a single instant, we realized that this will be a decisive decade in the history of liberty, that we've been called to a unique role in human events\n",
      "Rarely has the world faced a choice more clear or consequential.Our enemies send other people's children on missions of suicide and murder\n",
      "They embrace tyranny and death as a cause and a creed\n",
      "We stand for a different choice, made long ago on the day of our founding\n",
      "We affirm it again today\n",
      "We choose freedom and the dignity of every life.Steadfast in our purpose, we now press on\n",
      "We have known freedom's price\n",
      "We have shown freedom's power\n",
      "And in this great conflict, my fellow Americans, we will see freedom's victory.Thank you all\n",
      "May God bless.\n"
     ]
    },
    {
     "name": "stdout",
     "output_type": "stream",
     "text": [
      "Indexes of top ranked_sentence order are  [(0.01652139375824432, ['History', 'has', 'called', 'America', 'and', 'our', 'allies', 'to', 'action,', 'and', 'it', 'is', 'both', 'our', 'responsibility', 'and', 'our', 'privilege', 'to', 'fight', \"freedom's\", 'fight.Our', 'first', 'priority', 'must', 'always', 'be', 'the', 'security', 'of', 'our', 'nation,', 'and', 'that', 'will', 'be', 'reflected', 'in', 'the', 'budget', 'I', 'send', 'to', 'Congress']), (0.015619361287832893, ['And', 'make', 'no', 'mistake', 'about', 'it:', 'If', 'they', 'do', 'not', 'act,', 'America', 'will.Our', 'second', 'goal', 'is', 'to', 'prevent', 'regimes', 'that', 'sponsor', 'terror', 'from', 'threatening', 'America', 'or', 'our', 'friends', 'and', 'allies', 'with', 'weapons', 'of', 'mass', 'destruction']), (0.014341482746557806, ['USA', 'Freedom', 'Corps', 'will', 'expand', 'and', 'improve', 'the', 'good', 'efforts', 'of', 'AmeriCorps', 'and', 'Senior', 'Corps', 'to', 'recruit', 'more', 'than', '200,000', 'new', 'volunteers.And', 'America', 'needs', 'citizens', 'to', 'extend', 'the', 'compassion', 'of', 'our', 'country', 'to', 'every', 'part', 'of', 'the', 'world']), (0.014117299910605714, ['In', 'four', 'short', 'months,', 'our', 'nation', 'has', 'comforted', 'the', 'victims,', 'begun', 'to', 'rebuild', 'New', 'York', 'and', 'the', 'Pentagon,', 'rallied', 'a', 'great', 'coalition,', 'captured,', 'arrested,', 'and', 'rid', 'the', 'world', 'of', 'thousands', 'of', 'terrorists,', 'destroyed', \"Afghanistan's\", 'terrorist', 'training', 'camps,', 'saved', 'a', 'people', 'from', 'starvation,', 'and', 'freed', 'a', 'country', 'from', 'brutal', 'oppression.The', 'American', 'flag', 'flies', 'again', 'over', 'our', 'embassy', 'in', 'Kabul']), (0.013994001265006465, ['When', 'America', 'works,', 'America', 'prospers,', 'so', 'my', 'economic', 'security', 'plan', 'can', 'be', 'summed', 'up', 'in', 'one', 'word:', 'jobs.Good', 'jobs', 'begin', 'with', 'good', 'schools,', 'and', 'here', \"we've\", 'made', 'a', 'fine', 'start']), (0.013930954302389083, ['And', 'America', 'and', 'our', 'allies', 'must', 'not', 'and', 'will', 'not', 'allow', 'it.Our', 'nation', 'will', 'continue', 'to', 'be', 'steadfast', 'and', 'patient', 'and', 'persistent', 'in', 'the', 'pursuit', 'of', 'two', 'great', 'objectives']), (0.01314199696280128, ['This', 'Congress', 'must', 'act', 'to', 'encourage', 'conservation,', 'promote', 'technology,', 'build', 'infrastructure,', 'and', 'it', 'must', 'act', 'to', 'increase', 'energy', 'production', 'at', 'home', 'so', 'America', 'is', 'less', 'dependent', 'on', 'foreign', 'oil.Good', 'jobs', 'depend', 'on', 'expanded', 'trade']), (0.01308746343509367, ['And', 'second,', 'we', 'must', 'prevent', 'the', 'terrorists', 'and', 'regimes', 'who', 'seek', 'chemical,', 'biological,', 'or', 'nuclear', 'weapons', 'from', 'threatening', 'the', 'United', 'States', 'and', 'the', 'world.Our', 'military', 'has', 'put', 'the', 'terror', 'training', 'camps', 'of', 'Afghanistan', 'out', 'of', 'business,', 'yet', 'camps', 'still', 'exist', 'in', 'at', 'least', 'a', 'dozen', 'countries']), (0.012106157286674503, ['We', 'will', 'improve', 'intelligence', 'collection', 'and', 'sharing,', 'expand', 'patrols', 'at', 'our', 'borders,', 'strengthen', 'the', 'security', 'of', 'air', 'travel,', 'and', 'use', 'technology', 'to', 'track', 'the', 'arrivals', 'and', 'departures', 'of', 'visitors', 'to', 'the', 'United', 'States.Homeland', 'security', 'will', 'make', 'America', 'not', 'only', 'stronger', 'but,', 'in', 'many', 'ways,', 'better']), (0.012095926602841046, ['And', 'tonight', 'we', 'welcome', 'and', 'thank', 'flight', 'attendants', 'Hermis', 'Moutardier', 'and', 'Christina', 'Jones.Once', 'we', 'have', 'funded', 'our', 'national', 'security', 'and', 'our', 'homeland', 'security,', 'the', 'final', 'great', 'priority', 'of', 'my', 'budget', 'is', 'economic', 'security', 'for', 'the', 'American', 'people']), (0.012055356016491112, ['As', 'we', 'reauthorize', 'these', 'important', 'reforms,', 'we', 'must', 'always', 'remember', 'the', 'goal', 'is', 'to', 'reduce', 'dependency', 'on', 'government', 'and', 'offer', 'every', 'American', 'the', 'dignity', 'of', 'a', 'job.Americans', 'know', 'economic', 'security', 'can', 'vanish', 'in', 'an', 'instant', 'without', 'health', 'security']), (0.011806036926177668, ['The', 'United', 'States', 'of', 'America', 'will', 'not', 'permit', 'the', \"world's\", 'most', 'dangerous', 'regimes', 'to', 'threaten', 'us', 'with', 'the', \"world's\", 'most', 'destructive', 'weapons.Our', 'war', 'on', 'terror', 'is', 'well', 'begun,', 'but', 'it', 'is', 'only', 'begun']), (0.011673237438999744, ['Some', 'of', 'these', 'regimes', 'have', 'been', 'pretty', 'quiet', 'since', 'September', '11,', 'but', 'we', 'know', 'their', 'true', 'nature.North', 'Korea', 'is', 'a', 'regime', 'arming', 'with', 'missiles', 'and', 'weapons', 'of', 'mass', 'destruction,', 'while', 'starving', 'its', 'citizens.Iran', 'aggressively', 'pursues', 'these', 'weapons', 'and', 'exports', 'terror,', 'while', 'an', 'unelected', 'few', 'repress', 'the', 'Iranian', \"people's\", 'hope', 'for', 'freedom.Iraq', 'continues', 'to', 'flaunt', 'its', 'hostility', 'toward', 'America', 'and', 'to', 'support', 'terror']), (0.011575069159491155, [\"We've\", 'been', 'offered', 'a', 'unique', 'opportunity,', 'and', 'we', 'must', 'not', 'let', 'this', 'moment', 'pass.My', 'call', 'tonight', 'is', 'for', 'every', 'American', 'to', 'commit', 'at', 'least', 'two', 'years,', '4,000', 'hours', 'over', 'the', 'rest', 'of', 'your', 'lifetime,', 'to', 'the', 'service', 'of', 'your', 'neighbors', 'and', 'your', 'nation']), (0.011308328299002203, ['We', 'began', 'to', 'think', 'less', 'of', 'the', 'goods', 'we', 'can', 'accumulate', 'and', 'more', 'about', 'the', 'good', 'we', 'can', 'do.For', 'too', 'long', 'our', 'culture', 'has', 'said,', '\"If', 'it', 'feels', 'good,', 'do', 'it.\"', 'Now', 'America', 'is', 'embracing', 'a', 'new', 'ethic', 'and', 'a', 'new', 'creed,', '\"Let\\'s', 'roll.\"', 'In', 'the', 'sacrifice', 'of', 'soldiers,', 'the', 'fierce', 'brotherhood', 'of', 'firefighters,', 'and', 'the', 'bravery', 'and', 'generosity', 'of', 'ordinary', 'citizens,', 'we', 'have', 'glimpsed', 'what', 'a', 'new', 'culture', 'of', 'responsibility', 'could', 'look', 'like']), (0.01096148585163877, ['My', 'budget', 'supports', 'three', 'great', 'goals', 'for', 'America:', 'We', 'will', 'win', 'this', 'war;', 'we', 'will', 'protect', 'our', 'homeland;', 'and', 'we', 'will', 'revive', 'our', 'economy.September', '11', 'brought', 'out', 'the', 'best', 'in', 'America', 'and', 'the', 'best', 'in', 'this', 'Congress']), (0.010831753268094444, ['We', 'have', 'found', 'diagrams', 'of', 'American', 'nuclear', 'powerplants', 'and', 'public', 'water', 'facilities,', 'detailed', 'instructions', 'for', 'making', 'chemical', 'weapons,', 'surveillance', 'maps', 'of', 'American', 'cities,', 'and', 'thorough', 'descriptions', 'of', 'landmarks', 'in', 'America', 'and', 'throughout', 'the', 'world.What', 'we', 'have', 'found', 'in', 'Afghanistan', 'confirms', 'that,', 'far', 'from', 'ending', 'there,', 'our', 'war', 'against', 'terror', 'is', 'only', 'beginning']), (0.010659193314150385, ['America', 'will', 'lead', 'by', 'defending', 'liberty', 'and', 'justice', 'because', 'they', 'are', 'right', 'and', 'true', 'and', 'unchanging', 'for', 'all', 'people', 'everywhere.No', 'nation', 'owns', 'these', 'aspirations,', 'and', 'no', 'nation', 'is', 'exempt', 'from', 'them']), (0.01041942336087756, ['We', 'will', 'develop', 'and', 'deploy', 'effective', 'missile', 'defenses', 'to', 'protect', 'America', 'and', 'our', 'allies', 'from', 'sudden', 'attack']), (0.010375545941290627, ['So', 'we', 'will', 'renew', 'the', 'promise', 'of', 'the', 'Peace', 'Corps,', 'double', 'its', 'volunteers', 'over', 'the', 'next', 'five', 'years,', 'and', 'ask', 'it', 'to', 'join', 'a', 'new', 'effort', 'to', 'encourage', 'development', 'and', 'education', 'and', 'opportunity', 'in', 'the', 'Islamic', 'world.This', 'time', 'of', 'adversity', 'offers', 'a', 'unique', 'moment', 'of', 'opportunity,', 'a', 'moment', 'we', 'must', 'seize', 'to', 'change', 'our', 'culture']), (0.010308658460980058, ['If', 'we', 'stop', 'now,', 'leaving', 'terror', 'camps', 'intact', 'and', 'terrorist', 'states', 'unchecked,', 'our', 'sense', 'of', 'security', 'would', 'be', 'false', 'and', 'temporary']), (0.010127616705669116, ['Yet,', 'after', 'America', 'was', 'attacked,', 'it', 'was', 'as', 'if', 'our', 'entire', 'country', 'looked', 'into', 'a', 'mirror', 'and', 'saw', 'our', 'better', 'selves']), (0.01008473396002733, ['As', 'I', 'have', 'met', 'the', 'heroes,', 'hugged', 'the', 'families,', 'and', 'looked', 'into', 'the', 'tired', 'faces', 'of', 'rescuers,', 'I', 'have', 'stood', 'in', 'awe', 'of', 'the', 'American', 'people.And', 'I', 'hope', 'you', 'will', 'join', 'me—I', 'hope', 'you', 'will', 'join', 'me', 'in', 'expressing', 'thanks', 'to', 'one', 'American', 'for', 'the', 'strength', 'and', 'calm', 'and', 'comfort', 'she', 'brings', 'to', 'our', 'nation', 'in', 'crisis,', 'our', 'First', 'Lady,', 'Laura', 'Bush.None', 'of', 'us', 'would', 'ever', 'wish', 'the', 'evil', 'that', 'was', 'done', 'on', 'September', '11']), (0.009977298859666663, ['And', 'I', 'join', 'the', 'American', 'people', 'in', 'applauding', 'your', 'unity', 'and', 'resolve']), (0.00991719739001779, ['And', 'all', 'nations', 'should', 'know:', 'America', 'will', 'do', 'what', 'is', 'necessary', 'to', 'ensure', 'our', \"nation's\", \"security.We'll\", 'be', 'deliberate;', 'yet,', 'time', 'is', 'not', 'on', 'our', 'side']), (0.009845578985775108, ['America', 'is', 'working', 'with', 'Russia', 'and', 'China', 'and', 'India,', 'in', 'ways', 'we', 'have', 'never', 'before,', 'to', 'achieve', 'peace', 'and', 'prosperity']), (0.009773106018322607, ['Yet', 'as', 'we', 'act', 'to', 'win', 'the', 'war,', 'protect', 'our', 'people,', 'and', 'create', 'jobs', 'in', 'America,', 'we', 'must', 'act,', 'first', 'and', 'foremost,', 'not', 'as', 'Republicans,', 'not', 'as', 'Democrats', 'but', 'as', 'Americans.It', 'costs', 'a', 'lot', 'to', 'fight', 'this', 'war']), (0.009689740760716378, ['Through', 'stricter', 'accounting', 'standards', 'and', 'tougher', 'disclosure', 'requirements,', 'corporate', 'America', 'must', 'be', 'made', 'more', 'accountable', 'to', 'employees', 'and', 'shareholders', 'and', 'held', 'to', 'the', 'highest', 'standards', 'of', 'conduct.Retirement', 'security', 'also', 'depends', 'upon', 'keeping', 'the', 'commitments', 'of', 'Social', 'Security,', 'and', 'we', 'will']), (0.009588568777897275, ['And', 'terrorist', 'leaders', 'who', 'urged', 'followers', 'to', 'sacrifice', 'their', 'lives', 'are', 'running', 'for', 'their', 'own.America', 'and', 'Afghanistan', 'are', 'now', 'allies', 'against', 'terror']), (0.009466106636996686, ['America', 'needs', 'retired', 'doctors', 'and', 'nurses', 'who', 'can', 'be', 'mobilized', 'in', 'major', 'emergencies,', 'volunteers', 'to', 'help', 'police', 'and', 'fire', 'departments,', 'transportation', 'and', 'utility', 'workers', 'well-trained', 'in', 'spotting', 'danger.Our', 'country', 'also', 'needs', 'citizens', 'working', 'to', 'rebuild', 'our', 'communities']), (0.009091573592652795, ['Today', 'women', 'are', 'free', 'and', 'are', 'part', 'of', \"Afghanistan's\", 'new', 'government']), (0.009089102957540195, ['We', 'must', 'make', 'Social', 'Security', 'financially', 'stable', 'and', 'allow', 'personal', 'retirement', 'accounts', 'for', 'younger', 'workers', 'who', 'choose', 'them.Members,', 'you', 'and', 'I', 'will', 'work', 'together', 'in', 'the', 'months', 'ahead', 'on', 'other', 'issues:', 'productive', 'farm', 'policy;', 'a', 'cleaner', 'environment;', 'broader', 'homeownership,', 'especially', 'among', 'minorities;', 'and', 'ways', 'to', 'encourage', 'the', 'good', 'work', 'of', 'charities', 'and', 'faith-based', 'groups']), (0.009038723196470762, ['For', 'the', 'sake', 'of', 'American', 'workers,', \"let's\", 'pass', 'a', 'stimulus', 'package.Good', 'jobs', 'must', 'be', 'the', 'aim', 'of', 'welfare', 'reform']), (0.008985065142580472, ['Our', 'men', 'and', 'women', 'in', 'uniform', 'deserve', 'the', 'best', 'weapons,', 'the', 'best', 'equipment,', 'the', 'best', 'training,', 'and', 'they', 'also', 'deserve', 'another', 'pay', 'raise.My', 'budget', 'includes', 'the', 'largest', 'increase', 'in', 'defense', 'spending', 'in', 'two', 'decades,', 'because', 'while', 'the', 'price', 'of', 'freedom', 'and', 'security', 'is', 'high,', 'it', 'is', 'never', 'too', 'high']), (0.008961577545012778, ['Together', 'with', 'friends', 'and', 'allies', 'from', 'Europe', 'to', 'Asia', 'and', 'Africa', 'to', 'Latin', 'America,', 'we', 'will', 'demonstrate', 'that', 'the', 'forces', 'of', 'terror', 'cannot', 'stop', 'the', 'momentum', 'of', 'freedom.The', 'last', 'time', 'I', 'spoke', 'here,', 'I', 'expressed', 'the', 'hope', 'that', 'life', 'would', 'return', 'to', 'normal']), (0.008761617787655154, ['We', 'have', 'clear', 'priorities,', 'and', 'we', 'must', 'act', 'at', 'home', 'with', 'the', 'same', 'purpose', 'and', 'resolve', 'we', 'have', 'shown', 'overseas']), (0.008744812073030366, ['This', 'is', 'a', 'regime', 'that', 'has', 'something', 'to', 'hide', 'from', 'the', 'civilized', 'world.States', 'like', 'these', 'and', 'their', 'terrorist', 'allies', 'constitute', 'an', 'axis', 'of', 'evil,', 'arming', 'to', 'threaten', 'the', 'peace', 'of', 'the', 'world']), (0.008701231800224914, ['America', 'is', 'no', 'longer', 'protected', 'by', 'vast', 'oceans']), (0.008675675217277473, [\"We've\", 'come', 'to', 'know', 'truths', 'that', 'we', 'will', 'never', 'question:', 'Evil', 'is', 'real,', 'and', 'it', 'must', 'be', 'opposed']), (0.008618030328882002, ['To', 'sustain', 'and', 'extend', 'the', 'best', 'that', 'has', 'emerged', 'in', 'America,', 'I', 'invite', 'you', 'to', 'join', 'the', 'new', 'USA', 'Freedom', 'Corps']), (0.008587228118878689, ['Selling', 'into', 'new', 'markets', 'creates', 'new', 'jobs,', 'so', 'I', 'ask', 'Congress', 'to', 'finally', 'approve', 'trade', 'promotion', 'authority.On', 'these', 'two', 'key', 'issues,', 'trade', 'and', 'energy,', 'the', 'House', 'of', 'Representatives', 'has', 'acted', 'to', 'create', 'jobs,', 'and', 'I', 'urge', 'the', 'Senate', 'to', 'pass', 'this', 'legislation.Good', 'jobs', 'depend', 'on', 'sound', 'tax', 'policy']), (0.008581669070711366, ['The', 'Freedom', 'Corps', 'will', 'focus', 'on', 'three', 'areas', 'of', 'need:', 'responding', 'in', 'case', 'of', 'crisis', 'at', 'home;', 'rebuilding', 'our', 'communities;', 'and', 'extending', 'American', 'compassion', 'throughout', 'the', 'world.One', 'purpose', 'of', 'the', 'USA', 'Freedom', 'Corps', 'will', 'be', 'homeland', 'security']), (0.00851580625041888, ['I', 'ask', 'you', 'to', 'join', 'me', 'on', 'these', 'important', 'domestic', 'issues', 'in', 'the', 'same', 'spirit', 'of', 'cooperation', \"we've\", 'applied', 'to', 'our', 'war', 'against', 'terrorism.During', 'these', 'last', 'few', 'months,', \"I've\", 'been', 'humbled', 'and', 'privileged', 'to', 'see', 'the', 'true', 'character', 'of', 'this', 'country', 'in', 'a', 'time', 'of', 'testing']), (0.008412681293293365, ['These', 'enemies', 'view', 'the', 'entire', 'world', 'as', 'a', 'battlefield,', 'and', 'we', 'must', 'pursue', 'them', 'wherever', 'they', 'are']), (0.00838082683303819, ['A', 'terrorist', 'underworld,', 'including', 'groups', 'like', 'Hamas,', 'Hezbollah,', 'Islamic', 'Jihad,', 'Jaish-e-Mohammed,', 'operates', 'in', 'remote', 'jungles', 'and', 'deserts', 'and', 'hides', 'in', 'the', 'centers', 'of', 'large', 'cities.While', 'the', 'most', 'visible', 'military', 'action', 'is', 'in', 'Afghanistan,', 'America', 'is', 'acting', 'elsewhere']), (0.008370821549827795, ['The', 'men', 'and', 'women', 'of', 'our', 'armed', 'forces', 'have', 'delivered', 'a', 'message', 'now', 'clear', 'to', 'every', 'enemy', 'of', 'the', 'United', 'States:', 'Even', '7,000', 'miles', 'away,', 'across', 'oceans', 'and', 'continents,', 'on', 'mountaintops', 'and', 'in', 'caves,', 'you', 'will', 'not', 'escape', 'the', 'justice', 'of', 'this', 'nation.For', 'many', 'Americans,', 'these', 'four', 'months', 'have', 'brought', 'sorrow', 'and', 'pain', 'that', 'will', 'never', 'completely', 'go', 'away']), (0.008333496940185368, ['In', 'any', 'of', 'these', 'cases,', 'the', 'price', 'of', 'indifference', 'would', 'be', 'catastrophic.We', 'will', 'work', 'closely', 'with', 'our', 'coalition', 'to', 'deny', 'terrorists', 'and', 'their', 'state', 'sponsors', 'the', 'materials,', 'technology,', 'and', 'expertise', 'to', 'make', 'and', 'deliver', 'weapons', 'of', 'mass', 'destruction']), (0.00831066085003224, ['Time', 'and', 'distance', 'from', 'the', 'events', 'of', 'September', '11', 'will', 'not', 'make', 'us', 'safer', 'unless', 'we', 'act', 'on', 'its', 'lessons']), (0.008236958003490695, ['Through', 'the', 'gathering', 'momentum', 'of', 'millions', 'of', 'acts', 'of', 'service', 'and', 'decency', 'and', 'kindness,', 'I', 'know', 'we', 'can', 'overcome', 'evil', 'with', 'greater', 'good.And', 'we', 'have', 'a', 'great', 'opportunity', 'during', 'this', 'time', 'of', 'war', 'to', 'lead', 'the', 'world', 'toward', 'the', 'values', 'that', 'will', 'bring', 'lasting', 'peace']), (0.008114842329173033, ['Yet,', 'American', 'workers', 'want', 'more', 'than', 'unemployment', 'checks;', 'they', 'want', 'a', 'steady', 'paycheck']), (0.008083243223376297, ['We', 'now', 'have', 'troops', 'in', 'the', 'Philippines,', 'helping', 'to', 'train', 'that', \"country's\", 'armed', 'forces', 'to', 'go', 'after', 'terrorist', 'cells', 'that', 'have', 'executed', 'an', 'American', 'and', 'still', 'hold', 'hostages']), (0.007996464083798553, ['Yet,', 'tens', 'of', 'thousands', 'of', 'trained', 'terrorists', 'are', 'still', 'at', 'large']), (0.00799024602423055, ['They', 'were', 'as', 'wrong', 'as', 'they', 'are', 'evil.The', 'American', 'people', 'have', 'responded', 'magnificently,', 'with', 'courage', 'and', 'compassion,', 'strength', 'and', 'resolve']), (0.007952539874977604, ['Our', 'enemies', 'believed', 'America', 'was', 'weak', 'and', 'materialistic,', 'that', 'we', 'would', 'splinter', 'in', 'fear', 'and', 'selfishness']), (0.007782199995106686, ['I', 'ask', 'Congress', 'to', 'join', 'me', 'this', 'year', 'to', 'enact', 'a', \"patients'\", 'bill', 'of', 'rights,', 'to', 'give', 'uninsured', 'workers', 'credits', 'to', 'help', 'buy', 'health', 'coverage,', 'to', 'approve', 'an', 'historic', 'increase', 'in', 'the', 'spending', 'for', \"veterans'\", 'health,', 'and', 'to', 'give', 'seniors', 'a', 'sound', 'and', 'modern', 'Medicare', 'system', 'that', 'includes', 'coverage', 'for', 'prescription', 'drugs.A', 'good', 'job', 'should', 'lead', 'to', 'security', 'in', 'retirement']), (0.00767802042236215, ['We', 'must', 'upgrade', 'our', 'teacher', 'colleges', 'and', 'teacher', 'training', 'and', 'launch', 'a', 'major', 'recruiting', 'drive', 'with', 'a', 'great', 'goal', 'for', 'America,', 'a', 'quality', 'teacher', 'in', 'every', 'classroom.Good', 'jobs', 'also', 'depend', 'on', 'reliable', 'and', 'affordable', 'energy']), (0.007523278195336564, ['We', 'need', 'to', 'replace', 'aging', 'aircraft', 'and', 'make', 'our', 'military', 'more', 'agile', 'to', 'put', 'our', 'troops', 'anywhere', 'in', 'the', 'world', 'quickly', 'and', 'safely']), (0.007399405188979377, ['Our', 'Navy', 'is', 'patrolling', 'the', 'coast', 'of', 'Africa', 'to', 'block', 'the', 'shipment', 'of', 'weapons', 'and', 'the', 'establishment', 'of', 'terrorist', 'camps', 'in', 'Somalia.My', 'hope', 'is', 'that', 'all', 'nations', 'will', 'heed', 'our', 'call', 'and', 'eliminate', 'the', 'terrorist', 'parasites', 'who', 'threaten', 'their', 'countries', 'and', 'our', 'own']), (0.007273092822688815, ['They', 'could', 'attack', 'our', 'allies', 'or', 'attempt', 'to', 'blackmail', 'the', 'United', 'States']), (0.007249239722960821, ['To', 'achieve', 'these', 'great', 'national', 'objectives—to', 'win', 'the', 'war,', 'protect', 'the', 'homeland,', 'and', 'revitalize', 'our', 'economy—our', 'budget', 'will', 'run', 'a', 'deficit', 'that', 'will', 'be', 'small', 'and', 'short', 'term,', 'so', 'long', 'as', 'Congress', 'restrains', 'spending', 'and', 'acts', 'in', 'a', 'fiscally', 'responsible', 'manner']), (0.007212551379525134, ['Congress', 'listened', 'to', 'the', 'people', 'and', 'responded', 'by', 'reducing', 'tax', 'rates,', 'doubling', 'the', 'child', 'credit,', 'and', 'ending', 'the', 'death', 'tax']), (0.007196198347488186, ['But', 'America', 'will', 'always', 'stand', 'firm', 'for', 'the', 'nonnegotiable', 'demands', 'of', 'human', 'dignity:', 'the', 'rule', 'of', 'law;', 'limits', 'on', 'the', 'power', 'of', 'the', 'state;', 'respect', 'for', 'women;', 'private', 'property;', 'free', 'speech;', 'equal', 'justice;', 'and', 'religious', 'tolerance.America', 'will', 'take', 'the', 'side', 'of', 'brave', 'men', 'and', 'women', 'who', 'advocate', 'these', 'values', 'around', 'the', 'world,', 'including', 'the', 'Islamic', 'world,', 'because', 'we', 'have', 'a', 'greater', 'objective', 'than', 'eliminating', 'threats', 'and', 'containing', 'resentment']), (0.007151733856729207, ['For', 'the', 'sake', 'of', 'long-term', 'growth', 'and', 'to', 'help', 'Americans', 'plan', 'for', 'the', 'future,', \"let's\", 'make', 'these', 'tax', 'cuts', 'permanent.The', 'way', 'out', 'of', 'this', 'recession,', 'the', 'way', 'to', 'create', 'jobs,', 'is', 'to', 'grow', 'the', 'economy', 'by', 'encouraging', 'investment', 'in', 'factories', 'and', 'equipment', 'and', 'by', 'speeding', 'up', 'tax', 'relief', 'so', 'people', 'have', 'more', 'money', 'to', 'spend']), (0.0071422602896332055, ['Whatever', 'it', 'costs', 'to', 'defend', 'our', 'country,', 'we', 'will', 'pay.The', 'next', 'priority', 'of', 'my', 'budget', 'is', 'to', 'do', 'everything', 'possible', 'to', 'protect', 'our', 'citizens', 'and', 'strengthen', 'our', 'nation', 'against', 'the', 'ongoing', 'threat', 'of', 'another', 'attack']), (0.007126167427756606, ['Speaker,', 'Vice', 'President', 'Cheney,', 'members', 'of', 'Congress,', 'distinguished', 'guests,', 'fellow', 'citizens:As', 'we', 'gather', 'tonight,', 'our', 'nation', 'is', 'at', 'war;', 'our', 'economy', 'is', 'in', 'recession;', 'and', 'the', 'civilized', 'world', 'faces', 'unprecedented', 'dangers']), (0.007078187720531863, ['Afghanistan', 'proved', 'that', 'expensive', 'precision', 'weapons', 'defeat', 'the', 'enemy', 'and', 'spare', 'innocent', 'lives,', 'and', 'we', 'need', 'more', 'of', 'them']), (0.006850944836228221, ['First,', 'we', 'will', 'shut', 'down', 'terrorist', 'camps,', 'disrupt', 'terrorist', 'plans,', 'and', 'bring', 'terrorists', 'to', 'justice']), (0.006839971949126063, ['So', 'long', 'as', 'training', 'camps', 'operate,', 'so', 'long', 'as', 'nations', 'harbor', 'terrorists,', 'freedom', 'is', 'at', 'risk']), (0.006805318157381714, ['This', 'campaign', 'may', 'not', 'be', 'finished', 'on', 'our', 'watch;', 'yet,', 'it', 'must', 'be', 'and', 'it', 'will', 'be', 'waged', 'on', 'our', 'watch']), (0.00670571163261572, ['And', 'as', 'government', 'works', 'to', 'better', 'secure', 'our', 'homeland,', 'America', 'will', 'continue', 'to', 'depend', 'on', 'the', 'eyes', 'and', 'ears', 'of', 'alert', 'citizens.A', 'few', 'days', 'before', 'Christmas,', 'an', 'airline', 'flight', 'attendant', 'spotted', 'a', 'passenger', 'lighting', 'a', 'match']), (0.006573946489776645, [\"We'll\", 'prevail', 'in', 'the', 'war,', 'and', 'we', 'will', 'defeat', 'this', 'recession.Americans', 'who', 'have', 'lost', 'their', 'jobs', 'need', 'our', 'help,', 'and', 'I', 'support', 'extending', 'unemployment', 'benefits', 'and', 'direct', 'assistance', 'for', 'health', 'care', 'coverage']), (0.006541529547943627, ['Thousands', 'of', 'dangerous', 'killers,', 'schooled', 'in', 'the', 'methods', 'of', 'murder,', 'often', 'supported', 'by', 'outlaw', 'regimes,', 'are', 'now', 'spread', 'throughout', 'the', 'world', 'like', 'ticking', 'timebombs,', 'set', 'to', 'go', 'off', 'without', 'warning.Thanks', 'to', 'the', 'work', 'of', 'our', 'law', 'enforcement', 'officials', 'and', 'coalition', 'partners,', 'hundreds', 'of', 'terrorists', 'have', 'been', 'arrested']), (0.006425106801375079, ['I', 'ask', 'Congress', 'to', 'enact', 'new', 'safeguards', 'for', '401K', 'and', 'pension', 'plans']), (0.0064152056985379, ['The', 'Iraqi', 'regime', 'has', 'plotted', 'to', 'develop', 'anthrax', 'and', 'nerve', 'gas', 'and', 'nuclear', 'weapons', 'for', 'over', 'a', 'decade']), (0.0063192909063639596, ['In', 'every', 'region,', 'free', 'markets', 'and', 'free', 'trade', 'and', 'free', 'societies', 'are', 'proving', 'their', 'power', 'to', 'lift', 'lives']), (0.0060783071114838706, ['Shannon,', 'I', 'assure', 'you', 'and', 'all', 'who', 'have', 'lost', 'a', 'loved', 'one', 'that', 'our', 'cause', 'is', 'just,', 'and', 'our', 'country', 'will', 'never', 'forget', 'the', 'debt', 'we', 'owe', 'Micheal', 'and', 'all', 'who', 'gave', 'their', 'lives', 'for', 'freedom.Our', 'cause', 'is', 'just,', 'and', 'it', 'continues']), (0.006031978544280409, ['Yet,', 'the', 'state', 'of', 'our', 'Union', 'has', 'never', 'been', 'stronger.We', 'last', 'met', 'in', 'an', 'hour', 'of', 'shock', 'and', 'suffering']), (0.005995982195020985, [\"We'll\", 'increase', 'funding', 'to', 'help', 'states', 'and', 'communities', 'train', 'and', 'equip', 'our', 'heroic', 'police', 'and', 'firefighters']), (0.005922687210366852, ['This', 'is', 'a', 'regime', 'that', 'has', 'already', 'used', 'poison', 'gas', 'to', 'murder', 'thousands', 'of', 'its', 'own', 'citizens,', 'leaving', 'the', 'bodies', 'of', 'mothers', 'huddled', 'over', 'their', 'dead', 'children']), (0.005903335567827139, ['And', 'this', 'evening', 'we', 'welcomed', 'the', 'distinguished', 'interim', 'leader', 'of', 'a', 'liberated', 'Afghanistan,', 'Chairman', 'Hamid', 'Karzai.The', 'last', 'time', 'we', 'met', 'in', 'this', 'chamber,', 'the', 'mothers', 'and', 'daughters', 'of', 'Afghanistan', 'were', 'captives', 'in', 'their', 'own', 'homes,', 'forbidden', 'from', 'working', 'or', 'going', 'to', 'school']), (0.005903195967565336, ['Sima', 'Samar.Our', 'progress', 'is', 'a', 'tribute', 'to', 'the', 'spirit', 'of', 'the', 'Afghan', 'people,', 'to', 'the', 'resolve', 'of', 'our', 'coalition,', 'and', 'to', 'the', 'might', 'of', 'the', 'United', 'States', 'military']), (0.005889687558600474, ['We', 'seek', 'a', 'just', 'and', 'peaceful', 'world', 'beyond', 'the', 'war', 'on', 'terror.In', 'this', 'moment', 'of', 'opportunity,', 'a', 'common', 'danger', 'is', 'erasing', 'old', 'rivalries']), (0.005888979500147646, ['And', 'many', 'have', 'discovered', 'again', 'that', 'even', 'in', 'tragedy—especially', 'in', 'tragedy—God', 'is', 'near.In', 'a', 'single', 'instant,', 'we', 'realized', 'that', 'this', 'will', 'be', 'a', 'decisive', 'decade', 'in', 'the', 'history', 'of', 'liberty,', 'that', \"we've\", 'been', 'called', 'to', 'a', 'unique', 'role', 'in', 'human', 'events']), (0.0058377037141633045, ['And', 'tonight,', 'thanks', 'to', 'them,', 'we', 'are', 'winning', 'the', 'war', 'on', 'terror']), (0.005715886440644373, ['Rarely', 'has', 'the', 'world', 'faced', 'a', 'choice', 'more', 'clear', 'or', 'consequential.Our', 'enemies', 'send', 'other', \"people's\", 'children', 'on', 'missions', 'of', 'suicide', 'and', 'murder']), (0.005643508021580127, ['Deep', 'in', 'the', 'American', 'character,', 'there', 'is', 'honor,', 'and', 'it', 'is', 'stronger', 'than', 'cynicism']), (0.005586796672445675, ['Most', 'of', 'the', '19', 'men', 'who', 'hijacked', 'planes', 'on', 'September', '11', 'were', 'trained', 'in', \"Afghanistan's\", 'camps,', 'and', 'so', 'were', 'tens', 'of', 'thousands', 'of', 'others']), (0.005477490274847984, ['Many', 'are', 'already', 'serving,', 'and', 'I', 'thank', 'you']), (0.0053027744955048564, ['By', 'seeking', 'weapons', 'of', 'mass', 'destruction,', 'these', 'regimes', 'pose', 'a', 'grave', 'and', 'growing', 'danger']), (0.005218561773992098, ['And', 'in', 'this', 'great', 'conflict,', 'my', 'fellow', 'Americans,', 'we', 'will', 'see', \"freedom's\", 'victory.Thank', 'you', 'all']), (0.005139468857264843, ['The', 'people', 'on', 'that', 'plane', 'were', 'alert', 'and,', 'as', 'a', 'result,', 'likely', 'saved', 'nearly', '200', 'lives']), (0.005086212246341283, ['Terrorists', 'who', 'once', 'occupied', 'Afghanistan', 'now', 'occupy', 'cells', 'at', 'Guantanamo', 'Bay']), (0.005073690385889832, ['Every', 'day', 'a', 'retired', 'firefighter', 'returns', 'to', 'Ground', 'Zero', 'to', 'feel', 'closer', 'to', 'his', 'two', 'sons', 'who', 'died', 'there']), (0.005071701868945469, ['We', 'need', 'to', 'prepare', 'our', 'children', 'to', 'read', 'and', 'succeed', 'in', 'school', 'with', 'improved', 'Head', 'Start', 'and', 'early', 'childhood', 'development', 'programs']), (0.004956636627837557, ['All', 'fathers', 'and', 'mothers,', 'in', 'all', 'societies,', 'want', 'their', 'children', 'to', 'be', 'educated', 'and', 'live', 'free', 'from', 'poverty', 'and', 'violence']), (0.004907309721539172, ['We', 'want', 'to', 'be', 'a', 'nation', 'that', 'serves', 'goals', 'larger', 'than', 'self']), (0.004860142414539, ['Last', 'year,', 'some', 'in', 'this', 'hall', 'thought', 'my', 'tax', 'relief', 'plan', 'was', 'too', 'small;', 'some', 'thought', 'it', 'was', 'too', 'big']), (0.004795443226984227, ['But', 'when', 'the', 'checks', 'arrived', 'in', 'the', 'mail,', 'most', 'Americans', 'thought', 'tax', 'relief', 'was', 'just', 'about', 'right']), (0.004731061422259207, ['We', 'choose', 'freedom', 'and', 'the', 'dignity', 'of', 'every', 'life.Steadfast', 'in', 'our', 'purpose,', 'we', 'now', 'press', 'on']), (0.004727807895294657, ['We', 'have', 'spent', 'more', 'than', '$1', 'billion', 'a', 'month,', 'over', '$30', 'million', 'a', 'day,', 'and', 'we', 'must', 'be', 'prepared', 'for', 'future', 'operations']), (0.0046770253988299, ['We', 'have', 'shown', \"freedom's\", 'power']), (0.00466834583383937, ['Our', 'discoveries', 'in', 'Afghanistan', 'confirmed', 'our', 'worst', 'fears', 'and', 'showed', 'us', 'the', 'true', 'scope', 'of', 'the', 'task', 'ahead']), (0.004575197957313551, ['And', 'we', 'welcome', 'the', 'new', 'Minister', 'of', \"Women's\", 'Affairs,', 'Dr']), (0.00456934407009042, ['Many', 'nations', 'are', 'acting', 'forcefully']), (0.004551239861225537, ['We', 'need', 'mentors', 'to', 'love', 'children,', 'especially', 'children', 'whose', 'parents', 'are', 'in', 'prison']), (0.004429517120780334, ['We', 'are', 'protected', 'from', 'attack', 'only', 'by', 'vigorous', 'action', 'abroad', 'and', 'increased', 'vigilance', 'at', 'home.My', 'budget', 'nearly', 'doubles', 'funding', 'for', 'a', 'sustained', 'strategy', 'of', 'homeland', 'security,', 'focused', 'on', 'four', 'key', 'areas:', 'bioterrorism,', 'emergency', 'response,', 'airport', 'and', 'border', 'security,', 'and', 'improved', 'intelligence']), (0.004338781300321514, ['Beyond', 'all', 'differences', 'of', 'race', 'or', 'creed,', 'we', 'are', 'one', 'country,', 'mourning', 'together', 'and', 'facing', 'danger', 'together']), (0.004273252477629239, ['In', 'others,', 'it', 'never', 'will']), (0.004235163403537553, ['At', 'a', 'memorial', 'in', 'New', 'York,', 'a', 'little', 'boy', 'left', 'his', 'football', 'with', 'a', 'note', 'for', 'his', 'lost', 'father:', '\"Dear', 'Daddy,', 'please', 'take', 'this', 'to', 'heaven']), (0.004160158240885538, [\"We'll\", 'be', 'partners', 'in', 'rebuilding', 'that', 'country']), (0.004150308391393305, ['But', 'some', 'governments', 'will', 'be', 'timid', 'in', 'the', 'face', 'of', 'terror']), (0.00413029121978015, ['I', 'was', 'proud', 'to', 'work', 'with', 'members', 'of', 'both', 'parties:', 'Chairman', 'John', 'Boehner', 'and', 'Congressman', 'George', 'Miller;', 'Senator', 'Judd', 'Gregg']), (0.0040781305979891, ['Republicans', 'and', 'Democrats', 'worked', 'together', 'to', 'achieve', 'historic', 'education', 'reform', 'so', 'that', 'no', 'child', 'is', 'left', 'behind']), (0.004028485972506084, ['We', 'have', 'known', \"freedom's\", 'price']), (0.003810329325275386, ['Our', 'soldiers,', 'working', 'with', 'the', 'Bosnian', 'government,', 'seized', 'terrorists', 'who', 'were', 'plotting', 'to', 'bomb', 'our', 'embassy']), (0.0037724322224105883, ['If', 'anyone', 'doubts', 'this,', 'let', 'them', 'look', 'to', 'Afghanistan,', 'where', 'the', 'Islamic', '\"street\"', 'greeted', 'the', 'fall', 'of', 'tyranny', 'with', 'song', 'and', 'celebration']), (0.0037707997066031857, ['I', \"don't\", 'want', 'to', 'play', 'football', 'until', 'I', 'can', 'play', 'with', 'you', 'again', 'some', 'day.\"Last', 'month,', 'at', 'the', 'grave', 'of', 'her', 'husband,', 'Micheal,', 'a', 'CIA', 'officer', 'and', 'marine', 'who', 'died', 'in', 'Mazar-e-Sharif,', 'Shannon', 'Spann', 'said', 'these', 'words', 'of', 'farewell,', '\"Semper', 'Fi,', 'my', 'love.\"', 'Shannon', 'is', 'with', 'us', 'tonight']), (0.0037664169305336977, ['We', 'stand', 'for', 'a', 'different', 'choice,', 'made', 'long', 'ago', 'on', 'the', 'day', 'of', 'our', 'founding']), (0.0037589533506025294, ['No', 'people', 'on', 'Earth', 'yearn', 'to', 'be', 'oppressed', 'or', 'aspire', 'to', 'servitude', 'or', 'eagerly', 'await', 'the', 'midnight', 'knock', 'of', 'the', 'secret', 'police']), (0.0037210060642370573, ['They', 'could', 'provide', 'these', 'arms', 'to', 'terrorists,', 'giving', 'them', 'the', 'means', 'to', 'match', 'their', 'hatred']), (0.003718150713316952, ['And', 'I', 'was', 'so', 'proud', 'of', 'our', 'work,', 'I', 'even', 'had', 'nice', 'things', 'to', 'say', 'about', 'my', 'friend', 'Ted', 'Kennedy']), (0.003694937130967772, ['And', 'the', 'depth', 'of', 'their', 'hatred', 'is', 'equaled', 'by', 'the', 'madness', 'of', 'the', 'destruction', 'they', 'design']), (0.00369047733743883, ['Employees', 'who', 'have', 'worked', 'hard', 'and', 'saved', 'all', 'their', 'lives', 'should', 'not', 'have', 'to', 'risk', 'losing', 'everything', 'if', 'their', 'company', 'fails']), (0.003588675188173714, ['[Laughter]', 'I', 'know', 'the', 'folks', 'at', 'the', 'Crawford', 'coffee', 'shop', \"couldn't\", 'believe', \"I'd\", 'say', 'such', 'a', 'thing—[laughter]—but', 'our', 'work', 'on', 'this', 'bill', 'shows', 'what', 'is', 'possible', 'if', 'we', 'set', 'aside', 'posturing', 'and', 'focus', 'on', 'results.There', 'is', 'more', 'to', 'do']), (0.0035482144224339447, ['We', 'have', 'seen', 'the', 'depth', 'of', 'our', \"enemies'\", 'hatred', 'in', 'videos', 'where', 'they', 'laugh', 'about', 'the', 'loss', 'of', 'innocent', 'life']), (0.0034938544000261353, ['Now', 'Americans', 'deserve', 'to', 'have', 'this', 'same', 'spirit', 'directed', 'toward', 'addressing', 'problems', 'here', 'at', 'home']), (0.0033717387300256814, ['And', 'we', 'need', 'more', 'talented', 'teachers', 'in', 'troubled', 'schools']), (0.0033087654202970714, ['Stronger', 'police', 'and', 'fire', 'departments', 'will', 'mean', 'safer', 'neighborhoods']), (0.0031969780985912455, ['If', 'you', \"aren't\", 'sure', 'how', 'to', 'help,', \"I've\", 'got', 'a', 'good', 'place', 'to', 'start']), (0.003115494343746563, ['We', 'were', 'reminded', 'that', 'we', 'are', 'citizens', 'with', 'obligations', 'to', 'each', 'other,', 'to', 'our', 'country,', 'and', 'to', 'history']), (0.0029276719408425026, [\"I'm\", 'a', 'proud', 'member', 'of', 'my', 'party']), (0.00288505029296157, ['Thank', 'you', 'very', 'much']), (0.0028309100476796778, ['When', 'I', 'called', 'our', 'troops', 'into', 'action,', 'I', 'did', 'so', 'with', 'complete', 'confidence', 'in', 'their', 'courage', 'and', 'skill']), (0.002802349522404319, ['We', 'will', 'develop', 'vaccines', 'to', 'fight', 'anthrax', 'and', 'other', 'deadly', 'diseases']), (0.002756432121581144, ['Those', 'of', 'us', 'who', 'have', 'lived', 'through', 'these', 'challenging', 'times', 'have', 'been', 'changed', 'by', 'them']), (0.002746373548954473, ['I', 'will', 'not', 'wait', 'on', 'events', 'while', 'dangers', 'gather']), (0.002699200701216788, ['Stricter', 'border', 'enforcement', 'will', 'help', 'combat', 'illegal', 'drugs']), (0.0026665129317156424, ['They', 'embrace', 'tyranny', 'and', 'death', 'as', 'a', 'cause', 'and', 'a', 'creed']), (0.002598380727011133, ['I', 'will', 'not', 'stand', 'by', 'as', 'peril', 'draws', 'closer', 'and', 'closer']), (0.0024926584086667463, ['Let', 'the', 'skeptics', 'look', 'to', \"Islam's\", 'own', 'rich', 'history,', 'with', 'its', 'centuries', 'of', 'learning', 'and', 'tolerance', 'and', 'progress']), (0.0024595006443888425, ['We', \"can't\", 'stop', 'short']), (0.002431579046778939, ['The', 'crew', 'and', 'passengers', 'quickly', 'subdued', 'the', 'man,', 'who', 'had', 'been', 'trained', 'by', 'Al', 'Qaeda', 'and', 'was', 'armed', 'with', 'explosives']), (0.0023941601423790363, ['This', 'is', 'a', 'regime', 'that', 'agreed', 'to', 'international', 'inspections,', 'then', 'kicked', 'out', 'the', 'inspectors']), (0.00232598613824266, ['Knowledge', 'gained', 'from', 'bioterrorism', 'research', 'will', 'improve', 'public', 'health']), (0.0019123468432758312, ['We', 'affirm', 'it', 'again', 'today']), (0.0018482474468062534, ['We', 'have', 'no', 'intention', 'of', 'imposing', 'our', 'culture']), (0.0015784173870161127, ['In', 'some', 'ways,', 'it', 'has']), (0.001468590652465187, ['Pakistan', 'is', 'now', 'cracking', 'down', 'on', 'terror,', 'and', 'I', 'admire', 'the', 'strong', 'leadership', 'of', 'President', 'Musharraf']), (0.0010124873439082012, ['Mr'])]\n",
      "Summarize Text: \n",
      " History has called America and our allies to action, and it is both our responsibility and our privilege to fight freedom's fight.Our first priority must always be the security of our nation, and that will be reflected in the budget I send to Congress. And make no mistake about it: If they do not act, America will.Our second goal is to prevent regimes that sponsor terror from threatening America or our friends and allies with weapons of mass destruction\n"
     ]
    }
   ],
   "source": [
    "generate_summary('myfile.txt',2)"
   ]
  }
 ],
 "metadata": {
  "kernelspec": {
   "display_name": "Python 3",
   "language": "python",
   "name": "python3"
  },
  "language_info": {
   "codemirror_mode": {
    "name": "ipython",
    "version": 3
   },
   "file_extension": ".py",
   "mimetype": "text/x-python",
   "name": "python",
   "nbconvert_exporter": "python",
   "pygments_lexer": "ipython3",
   "version": "3.7.5"
  }
 },
 "nbformat": 4,
 "nbformat_minor": 2
}
