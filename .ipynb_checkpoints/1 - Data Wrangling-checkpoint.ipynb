{
 "cells": [
  {
   "cell_type": "markdown",
   "metadata": {},
   "source": [
    "## Problem Statement"
   ]
  },
  {
   "cell_type": "markdown",
   "metadata": {},
   "source": [
    "The goal we set is to analyze the transcripts of the presidential state of the union speeches and figure out the topics/themes they used to address the American people. We will be focusing on the [Presidential-Speeches](https://millercenter.org/the-presidency/presidential-speeches) provided by the Miller Center website."
   ]
  },
  {
   "cell_type": "markdown",
   "metadata": {},
   "source": [
    "## Scraping the Data"
   ]
  },
  {
   "cell_type": "markdown",
   "metadata": {},
   "source": [
    "The link file contains all presidential state of the union speeches which we can use BeautifulSoup to webscrape. We will be saving the webscraped transcripts in a different folder as python pickle files."
   ]
  },
  {
   "cell_type": "code",
   "execution_count": 1,
   "metadata": {},
   "outputs": [
    {
     "data": {
      "text/html": [
       "<div>\n",
       "<style scoped>\n",
       "    .dataframe tbody tr th:only-of-type {\n",
       "        vertical-align: middle;\n",
       "    }\n",
       "\n",
       "    .dataframe tbody tr th {\n",
       "        vertical-align: top;\n",
       "    }\n",
       "\n",
       "    .dataframe thead th {\n",
       "        text-align: right;\n",
       "    }\n",
       "</style>\n",
       "<table border=\"1\" class=\"dataframe\">\n",
       "  <thead>\n",
       "    <tr style=\"text-align: right;\">\n",
       "      <th></th>\n",
       "      <th>President</th>\n",
       "      <th>Link</th>\n",
       "      <th>Year</th>\n",
       "      <th>Party</th>\n",
       "    </tr>\n",
       "  </thead>\n",
       "  <tbody>\n",
       "    <tr>\n",
       "      <th>0</th>\n",
       "      <td>John F. Kennedy</td>\n",
       "      <td>https://millercenter.org/the-presidency/presid...</td>\n",
       "      <td>1961</td>\n",
       "      <td>D</td>\n",
       "    </tr>\n",
       "    <tr>\n",
       "      <th>1</th>\n",
       "      <td>John F. Kennedy</td>\n",
       "      <td>https://millercenter.org/the-presidency/presid...</td>\n",
       "      <td>1962</td>\n",
       "      <td>D</td>\n",
       "    </tr>\n",
       "    <tr>\n",
       "      <th>2</th>\n",
       "      <td>John F. Kennedy</td>\n",
       "      <td>https://millercenter.org/the-presidency/presid...</td>\n",
       "      <td>1963</td>\n",
       "      <td>D</td>\n",
       "    </tr>\n",
       "    <tr>\n",
       "      <th>3</th>\n",
       "      <td>Lyndon B. Johnson</td>\n",
       "      <td>https://millercenter.org/the-presidency/presid...</td>\n",
       "      <td>1964</td>\n",
       "      <td>D</td>\n",
       "    </tr>\n",
       "    <tr>\n",
       "      <th>4</th>\n",
       "      <td>Lyndon B. Johnson</td>\n",
       "      <td>https://millercenter.org/the-presidency/presid...</td>\n",
       "      <td>1965</td>\n",
       "      <td>D</td>\n",
       "    </tr>\n",
       "  </tbody>\n",
       "</table>\n",
       "</div>"
      ],
      "text/plain": [
       "           President                                               Link  Year  \\\n",
       "0    John F. Kennedy  https://millercenter.org/the-presidency/presid...  1961   \n",
       "1    John F. Kennedy  https://millercenter.org/the-presidency/presid...  1962   \n",
       "2    John F. Kennedy  https://millercenter.org/the-presidency/presid...  1963   \n",
       "3  Lyndon B. Johnson  https://millercenter.org/the-presidency/presid...  1964   \n",
       "4  Lyndon B. Johnson  https://millercenter.org/the-presidency/presid...  1965   \n",
       "\n",
       "  Party  \n",
       "0     D  \n",
       "1     D  \n",
       "2     D  \n",
       "3     D  \n",
       "4     D  "
      ]
     },
     "execution_count": 1,
     "metadata": {},
     "output_type": "execute_result"
    }
   ],
   "source": [
    "# load the links data to a dataframe\n",
    "import pandas as pd\n",
    "df = pd.read_csv('C:\\\\Users\\\\alanl\\\\Desktop\\\\nlp_project\\\\links.csv')\n",
    "df.head()"
   ]
  },
  {
   "cell_type": "code",
   "execution_count": 2,
   "metadata": {},
   "outputs": [
    {
     "name": "stdout",
     "output_type": "stream",
     "text": [
      "<class 'pandas.core.frame.DataFrame'>\n",
      "RangeIndex: 52 entries, 0 to 51\n",
      "Data columns (total 4 columns):\n",
      "President    52 non-null object\n",
      "Link         52 non-null object\n",
      "Year         52 non-null int64\n",
      "Party        52 non-null object\n",
      "dtypes: int64(1), object(3)\n",
      "memory usage: 1.8+ KB\n"
     ]
    }
   ],
   "source": [
    "# there are 26 state of the union speeches we will extract\n",
    "df.info()"
   ]
  },
  {
   "cell_type": "code",
   "execution_count": 3,
   "metadata": {},
   "outputs": [
    {
     "name": "stdout",
     "output_type": "stream",
     "text": [
      "https://millercenter.org/the-presidency/presidential-speeches/january-11-1962-state-union-address\n"
     ]
    }
   ],
   "source": [
    "# we will test out the url for 1991 state of the union address by George H.W. Bush\n",
    "url = df.Link[1]\n",
    "print(url)"
   ]
  },
  {
   "cell_type": "code",
   "execution_count": 4,
   "metadata": {},
   "outputs": [
    {
     "name": "stdout",
     "output_type": "stream",
     "text": [
      "Mr. Vice President, my old colleague from Massachusetts and your new Speaker, John McCormack, Members of the 87th Congress, ladies and gentlemen:\n",
      "A year ago, in assuming the tasks of the Presidency, I said that few generations, in all history, had been granted the role of being the great defender of freedom in its hour of maximum danger. This is our good fortune; and I welcome it now as I did a year ago. For it is the fate of this generation-of you in the Congress and of me as President--to live with a struggle we did not start, in a world we did not make. But the pressures of life are not always distributed by choice. And while no nation has ever faced such a challenge, no nation has ever been so ready to seize the burden and the glory of freedom.\n"
     ]
    }
   ],
   "source": [
    "# scrape one state of the union speech as a sample to see if the process works\n",
    "import requests\n",
    "from bs4 import BeautifulSoup\n",
    "page = requests.get(url).text\n",
    "soup = BeautifulSoup(page, \"html.parser\")\n",
    "text = [p.text for p in soup.find(class_=\"transcript-inner\").find_all('p')]\n",
    "\n",
    "# print out the beginning and the ending of the speech to make sure everything is right\n",
    "print(text[0])\n",
    "print(text[-2])"
   ]
  },
  {
   "cell_type": "code",
   "execution_count": 5,
   "metadata": {
    "scrolled": true
   },
   "outputs": [
    {
     "name": "stdout",
     "output_type": "stream",
     "text": [
      "https://millercenter.org/the-presidency/presidential-speeches/january-30-1961-state-union\n"
     ]
    }
   ],
   "source": [
    "# import pickles prepare the store the transcripts\n",
    "import pickle\n",
    "\n",
    "# create a new function that turns url into transcripts\n",
    "def url_to_transcript(url):\n",
    "    page = requests.get(url).text\n",
    "    soup = BeautifulSoup(page, \"html.parser\")\n",
    "    text = [p.text for p in soup.find(class_=\"transcript-inner\").find_all('p')]\n",
    "    print(url)\n",
    "    return text\n",
    "\n",
    "urls = df.Link.tolist()\n",
    "print(urls[0])"
   ]
  },
  {
   "cell_type": "code",
   "execution_count": 6,
   "metadata": {},
   "outputs": [
    {
     "name": "stdout",
     "output_type": "stream",
     "text": [
      "John F. Kennedy_1961\n"
     ]
    }
   ],
   "source": [
    "speech_list = []\n",
    "\n",
    "for i in range(len(df)):\n",
    "    speech = str(df.President[i]) + str('_') + str(df.Year[i])\n",
    "    speech_list.append(speech)\n",
    "\n",
    "print(speech_list[0])"
   ]
  },
  {
   "cell_type": "code",
   "execution_count": 7,
   "metadata": {},
   "outputs": [
    {
     "name": "stdout",
     "output_type": "stream",
     "text": [
      "https://millercenter.org/the-presidency/presidential-speeches/january-30-1961-state-union\n",
      "https://millercenter.org/the-presidency/presidential-speeches/january-11-1962-state-union-address\n",
      "https://millercenter.org/the-presidency/presidential-speeches/january-14-1963-state-union-address\n",
      "https://millercenter.org/the-presidency/presidential-speeches/january-8-1964-state-union\n",
      "https://millercenter.org/the-presidency/presidential-speeches/january-4-1965-state-union\n",
      "https://millercenter.org/the-presidency/presidential-speeches/january-12-1966-state-union\n",
      "https://millercenter.org/the-presidency/presidential-speeches/january-10-1967-state-union-address\n",
      "https://millercenter.org/the-presidency/presidential-speeches/january-17-1968-state-union-address\n",
      "https://millercenter.org/the-presidency/presidential-speeches/january-14-1969-state-union-address\n",
      "https://millercenter.org/the-presidency/presidential-speeches/january-22-1970-state-union-address\n",
      "https://millercenter.org/the-presidency/presidential-speeches/january-22-1971-state-union-address\n",
      "https://millercenter.org/the-presidency/presidential-speeches/january-20-1972-state-union-address\n",
      "https://millercenter.org/the-presidency/presidential-speeches/january-30-1974-state-union-address\n",
      "https://millercenter.org/the-presidency/presidential-speeches/january-15-1975-state-union-address\n",
      "https://millercenter.org/the-presidency/presidential-speeches/january-19-1976-state-union-address\n",
      "https://millercenter.org/the-presidency/presidential-speeches/january-12-1977-state-union-address\n",
      "https://millercenter.org/the-presidency/presidential-speeches/january-19-1978-state-union-address\n",
      "https://millercenter.org/the-presidency/presidential-speeches/january-23-1979-state-union-address\n",
      "https://millercenter.org/the-presidency/presidential-speeches/january-23-1980-state-union-address\n",
      "https://millercenter.org/the-presidency/presidential-speeches/january-26-1982-state-union-address\n",
      "https://millercenter.org/the-presidency/presidential-speeches/january-25-1983-state-union-address\n",
      "https://millercenter.org/the-presidency/presidential-speeches/january-25-1984-state-union-address\n",
      "https://millercenter.org/the-presidency/presidential-speeches/february-6-1985-state-union-address\n",
      "https://millercenter.org/the-presidency/presidential-speeches/february-4-1986-state-union-address\n",
      "https://millercenter.org/the-presidency/presidential-speeches/january-27-1987-state-union-address\n",
      "https://millercenter.org/the-presidency/presidential-speeches/january-25-1988-state-union-address\n",
      "https://millercenter.org/the-presidency/presidential-speeches/january-31-1990-state-union-address\n",
      "https://millercenter.org/the-presidency/presidential-speeches/january-29-1991-state-union-address\n",
      "https://millercenter.org/the-presidency/presidential-speeches/january-28-1992-state-union-address\n",
      "https://millercenter.org/the-presidency/presidential-speeches/january-25-1994-state-union-address\n",
      "https://millercenter.org/the-presidency/presidential-speeches/january-24-1995-state-union-address\n",
      "https://millercenter.org/the-presidency/presidential-speeches/january-23-1996-state-union-address\n",
      "https://millercenter.org/the-presidency/presidential-speeches/february-4-1997-state-union-address\n",
      "https://millercenter.org/the-presidency/presidential-speeches/january-27-1998-state-union-address\n",
      "https://millercenter.org/the-presidency/presidential-speeches/january-19-1999-state-union-address\n",
      "https://millercenter.org/the-presidency/presidential-speeches/january-27-2000-state-union-address\n",
      "https://millercenter.org/the-presidency/presidential-speeches/january-29-2002-state-union-address\n",
      "https://millercenter.org/the-presidency/presidential-speeches/january-28-2003-state-union-address\n",
      "https://millercenter.org/the-presidency/presidential-speeches/january-20-2004-state-union-address\n",
      "https://millercenter.org/the-presidency/presidential-speeches/february-2-2005-state-union-address\n",
      "https://millercenter.org/the-presidency/presidential-speeches/january-31-2006-state-union-address\n",
      "https://millercenter.org/the-presidency/presidential-speeches/january-23-2007-state-union-address\n",
      "https://millercenter.org/the-presidency/presidential-speeches/january-28-2008-state-union-address\n",
      "https://millercenter.org/the-presidency/presidential-speeches/january-27-2010-2010-state-union-address\n",
      "https://millercenter.org/the-presidency/presidential-speeches/january-25-2011-2011-state-union-address\n",
      "https://millercenter.org/the-presidency/presidential-speeches/january-24-2012-2012-state-union-address\n",
      "https://millercenter.org/the-presidency/presidential-speeches/february-13-2013-2013-state-union-address\n",
      "https://millercenter.org/the-presidency/presidential-speeches/january-28-2014-2014-state-union-address\n",
      "https://millercenter.org/the-presidency/presidential-speeches/january-20-2015-2015-state-union-address\n",
      "https://millercenter.org/the-presidency/presidential-speeches/january-12-2016-2016-state-union-address\n",
      "https://millercenter.org/the-presidency/presidential-speeches/january-30-2018-state-union-address\n",
      "https://millercenter.org/the-presidency/presidential-speeches/february-5-2019-state-union-address\n"
     ]
    }
   ],
   "source": [
    "transcripts = [url_to_transcript(u) for u in urls]"
   ]
  },
  {
   "cell_type": "code",
   "execution_count": 8,
   "metadata": {},
   "outputs": [],
   "source": [
    "# create a folder for the transcripts\n",
    "!mkdir transcripts"
   ]
  },
  {
   "cell_type": "code",
   "execution_count": 9,
   "metadata": {},
   "outputs": [],
   "source": [
    "# dump the transcript files as txt \n",
    "for i, c in enumerate(speech_list):\n",
    "    with open(\"transcripts/\" + c + \".txt\", \"wb\",\"utf-8\") as file:\n",
    "        pickle.dump(transcripts[i], file)"
   ]
  },
  {
   "cell_type": "code",
   "execution_count": 10,
   "metadata": {},
   "outputs": [],
   "source": [
    "# load all the transcripts again into a self-created dictionary called data \n",
    "data = {}\n",
    "for i, c in enumerate(speech_list):\n",
    "    with open(\"transcripts/\" + c + \".txt\", \"rb\") as file:\n",
    "        data[c] = pickle.load(file)"
   ]
  },
  {
   "cell_type": "code",
   "execution_count": 11,
   "metadata": {},
   "outputs": [
    {
     "data": {
      "text/plain": [
       "dict_keys(['John F. Kennedy_1961', 'John F. Kennedy_1962', 'John F. Kennedy_1963', 'Lyndon B. Johnson_1964', 'Lyndon B. Johnson_1965', 'Lyndon B. Johnson_1966', 'Lyndon B. Johnson_1967', 'Lyndon B. Johnson_1968', 'Lyndon B. Johnson_1969', 'Richard M. Nixon_1970', 'Richard M. Nixon_1971', 'Richard M. Nixon_1972', 'Richard M. Nixon_1974', 'Gerald Ford_1975', 'Gerald Ford_1976', 'Gerald Ford_1977', 'Jimmy Carter_1978', 'Jimmy Carter_1979', 'Jimmy Carter_1980', 'Ronald Reagan_1982', 'Ronald Reagan_1983', 'Ronald Reagan_1984', 'Ronald Reagan_1985', 'Ronald Reagan_1986', 'Ronald Reagan_1987', 'Ronald Reagan_1988', 'George H.W. Bush_1990', 'George H.W. Bush_1991', 'George H.W. Bush_1992', 'Bill Clinton_1994', 'Bill Clinton_1995', 'Bill Clinton_1996', 'Bill Clinton_1997', 'Bill Clinton_1998', 'Bill Clinton_1999', 'Bill Clinton_2000', 'George W. Bush_2002', 'George W. Bush_2003', 'George W. Bush_2004', 'George W. Bush_2005', 'George W. Bush_2006', 'George W. Bush_2007', 'George W. Bush_2008', 'Barack Obama_2010', 'Barack Obama_2011', 'Barack Obama_2012', 'Barack Obama_2013', 'Barack Obama_2014', 'Barack Obama_2015', 'Barack Obama_2016', 'Donald Trump_2018', 'Donald Trump_2019'])"
      ]
     },
     "execution_count": 11,
     "metadata": {},
     "output_type": "execute_result"
    }
   ],
   "source": [
    "# look at the keys within data\n",
    "data.keys()"
   ]
  },
  {
   "cell_type": "code",
   "execution_count": 13,
   "metadata": {},
   "outputs": [
    {
     "data": {
      "text/plain": [
       "['Mr. President, Mr. Speaker, members of the United States Congress:',\n",
       " 'I return as a former President of the Senate and a former member of this great House. And now, as President, it is my privilege to report to you on the state of the Union.',\n",
       " \"Tonight I come not to speak about the state of the government, not to detail every new initiative we plan for the coming year nor to describe every line in the budget. I'm here to speak to you and to the American people about the state of the Union, about our world—the changes we've seen, the challenges we face—and what that means for America.\"]"
      ]
     },
     "execution_count": 13,
     "metadata": {},
     "output_type": "execute_result"
    }
   ],
   "source": [
    "# Check the first 3 lines of George H.W. Bush 1990 speech to confirm everything is correct\n",
    "data['George H.W. Bush_1990'][:3]"
   ]
  },
  {
   "cell_type": "markdown",
   "metadata": {},
   "source": [
    "### Additional questions"
   ]
  },
  {
   "cell_type": "markdown",
   "metadata": {},
   "source": [
    "Some thoughts regarding storing data this way is whether we need to group the speeches by president. My current opinion is no since presidential state of the union address speeches may have different themes for each year. Our current goal in this nlp topic analysis is to figure out intent and national direction instead of presidential leadership style."
   ]
  },
  {
   "cell_type": "markdown",
   "metadata": {},
   "source": [
    "## Convert data from Dictionary to DataFrame"
   ]
  },
  {
   "cell_type": "code",
   "execution_count": 14,
   "metadata": {},
   "outputs": [],
   "source": [
    "# The current format within data dictionary is key: president_year, value: list format\n",
    "# we need to change it to key: comedian, value: string format\n",
    "# create a new function that combines all the list text to string format\n",
    "def combine_text(list_of_text):\n",
    "    combined_text = ' '.join(list_of_text)\n",
    "    return combined_text\n",
    "\n",
    "# utilize the combine_text function to combine everything\n",
    "data_combined = {key: [combine_text(value)] for (key, value) in data.items()}"
   ]
  },
  {
   "cell_type": "code",
   "execution_count": 15,
   "metadata": {},
   "outputs": [
    {
     "data": {
      "text/plain": [
       "1"
      ]
     },
     "execution_count": 15,
     "metadata": {},
     "output_type": "execute_result"
    }
   ],
   "source": [
    "# we can see now the length of the list is one, meaning it converted to string\n",
    "len(data_combined['George H.W. Bush_1990'])"
   ]
  },
  {
   "cell_type": "code",
   "execution_count": 16,
   "metadata": {
    "scrolled": true
   },
   "outputs": [
    {
     "data": {
      "text/html": [
       "<div>\n",
       "<style scoped>\n",
       "    .dataframe tbody tr th:only-of-type {\n",
       "        vertical-align: middle;\n",
       "    }\n",
       "\n",
       "    .dataframe tbody tr th {\n",
       "        vertical-align: top;\n",
       "    }\n",
       "\n",
       "    .dataframe thead th {\n",
       "        text-align: right;\n",
       "    }\n",
       "</style>\n",
       "<table border=\"1\" class=\"dataframe\">\n",
       "  <thead>\n",
       "    <tr style=\"text-align: right;\">\n",
       "      <th></th>\n",
       "      <th>transcript</th>\n",
       "    </tr>\n",
       "  </thead>\n",
       "  <tbody>\n",
       "    <tr>\n",
       "      <th>Barack Obama_2010</th>\n",
       "      <td>Madam Speaker, Vice President Biden, Members of Congress, distinguished guests, and fellow Americans: Our Constitution declares that from time to ...</td>\n",
       "    </tr>\n",
       "    <tr>\n",
       "      <th>Barack Obama_2011</th>\n",
       "      <td>Mr. Speaker, Mr. Vice President, members of Congress, distinguished guests, and fellow Americans:\\n\\r\\n      Tonight I want to begin by congratula...</td>\n",
       "    </tr>\n",
       "    <tr>\n",
       "      <th>Barack Obama_2012</th>\n",
       "      <td>Mr. Speaker, Mr. Vice President, members of Congress, distinguished guests, and fellow Americans: Last month, I went to Andrews Air Force Base an...</td>\n",
       "    </tr>\n",
       "    <tr>\n",
       "      <th>Barack Obama_2013</th>\n",
       "      <td>\\r\\nMr. Speaker, Mr. Vice President, members of Congress, fellow citizens:  \\r\\n \\r\\nFifty-one years ago, John F. Kennedy declared to this chamber...</td>\n",
       "    </tr>\n",
       "  </tbody>\n",
       "</table>\n",
       "</div>"
      ],
      "text/plain": [
       "                                                                                                                                                              transcript\n",
       "Barack Obama_2010  Madam Speaker, Vice President Biden, Members of Congress, distinguished guests, and fellow Americans: Our Constitution declares that from time to ...\n",
       "Barack Obama_2011  Mr. Speaker, Mr. Vice President, members of Congress, distinguished guests, and fellow Americans:\\n\\r\\n      Tonight I want to begin by congratula...\n",
       "Barack Obama_2012   Mr. Speaker, Mr. Vice President, members of Congress, distinguished guests, and fellow Americans: Last month, I went to Andrews Air Force Base an...\n",
       "Barack Obama_2013  \\r\\nMr. Speaker, Mr. Vice President, members of Congress, fellow citizens:  \\r\\n \\r\\nFifty-one years ago, John F. Kennedy declared to this chamber..."
      ]
     },
     "execution_count": 16,
     "metadata": {},
     "output_type": "execute_result"
    }
   ],
   "source": [
    "# We can convert this into a pandas dataframe\n",
    "pd.set_option('max_colwidth',150)\n",
    "data_df = pd.DataFrame.from_dict(data_combined).transpose()\n",
    "data_df.columns = ['transcript']\n",
    "data_df = data_df.sort_index()\n",
    "data_df[:4]"
   ]
  },
  {
   "cell_type": "markdown",
   "metadata": {},
   "source": [
    "## Clean the Data"
   ]
  },
  {
   "cell_type": "markdown",
   "metadata": {},
   "source": [
    "Since we are going to utilize the bag of words methods on our dataset. We will go through these rounds in order to clean the data.\n",
    "\n",
    "<b>First Round</b>: lowercase; square brackets; remove words containing numbers; remove punctation; remove text in square brackets.\n",
    "\n",
    "<b>Second Round</b>: additional punctuation; non-sensical text.\n",
    "\n",
    "<b>Third Round</b>: stemming 'looked' --> 'look'; lemmatization 'geese' --> 'goose'."
   ]
  },
  {
   "cell_type": "code",
   "execution_count": 17,
   "metadata": {},
   "outputs": [],
   "source": [
    "# First Round of Cleaning\n",
    "import re\n",
    "import string\n",
    "\n",
    "def clean_text_round1(text):\n",
    "    text = text.lower()\n",
    "    text = re.sub('\\[.*?\\]', '', text)\n",
    "    text = re.sub('[%s]' % re.escape(string.punctuation), '', text)\n",
    "    text = re.sub('\\w*\\d\\w*', '', text)\n",
    "    return text\n",
    "\n",
    "round1 = lambda x: clean_text_round1(x)"
   ]
  },
  {
   "cell_type": "code",
   "execution_count": 18,
   "metadata": {},
   "outputs": [],
   "source": [
    "# Second Round of Cleaning\n",
    "def clean_text_round2(text):\n",
    "    text = re.sub('[‘’“”…]', '', text)\n",
    "    text = re.sub('\\n', '', text)\n",
    "    text = re.sub('\\r','',text)\n",
    "    return text\n",
    "\n",
    "round2 = lambda x: clean_text_round2(x)"
   ]
  },
  {
   "cell_type": "code",
   "execution_count": 22,
   "metadata": {
    "scrolled": true
   },
   "outputs": [],
   "source": [
    "# Third round of cleaning\n",
    "import en_core_web_sm\n",
    "nlp = en_core_web_sm.load()\n",
    "\n",
    "def clean_text_round3(text):\n",
    "    text = nlp(text) #tokenize the data\n",
    "    text = [w.lemma_ for w in text if not w.is_stop] #lemmatize words that are not stop words\n",
    "    return text\n",
    "\n",
    "round3 = lambda x: clean_text_round3(x)"
   ]
  },
  {
   "cell_type": "code",
   "execution_count": 23,
   "metadata": {},
   "outputs": [],
   "source": [
    "# Fourth round of cleaning\n",
    "# load the untokenizer function to convert everything back to string again once stemming and lemmatization is complete\n",
    "# reference code provided by commonsense, please check out his/her brilliant github\n",
    "# https://github.com/commonsense/metanl/blob/master/metanl/token_utils.py\n",
    "def clean_text_round4(words):\n",
    "    \"\"\"\n",
    "    Untokenizing a text undoes the tokenizing operation, restoring\n",
    "    punctuation and spaces to the places that people expect them to be.\n",
    "    Ideally, `untokenize(tokenize(text))` should be identical to `text`,\n",
    "    except for line breaks.\n",
    "    \"\"\"\n",
    "    text = ' '.join(words)\n",
    "    step1 = text.replace(\"`` \", '\"').replace(\" ''\", '\"').replace('. . .',  '...')\n",
    "    step2 = step1.replace(\" ( \", \" (\").replace(\" ) \", \") \")\n",
    "    step3 = re.sub(r' ([.,:;?!%]+)([ \\'\"`])', r\"\\1\\2\", step2)\n",
    "    step4 = re.sub(r' ([.,:;?!%]+)$', r\"\\1\", step3)\n",
    "    step5 = step4.replace(\" '\", \"'\").replace(\" n't\", \"n't\").replace(\n",
    "         \"can not\", \"cannot\")\n",
    "    step6 = step5.replace(\" ` \", \" '\")\n",
    "    return step6.strip()\n",
    "\n",
    "round4 = lambda x: clean_text_round4(x)"
   ]
  },
  {
   "cell_type": "code",
   "execution_count": 24,
   "metadata": {
    "scrolled": true
   },
   "outputs": [
    {
     "data": {
      "text/html": [
       "<div>\n",
       "<style scoped>\n",
       "    .dataframe tbody tr th:only-of-type {\n",
       "        vertical-align: middle;\n",
       "    }\n",
       "\n",
       "    .dataframe tbody tr th {\n",
       "        vertical-align: top;\n",
       "    }\n",
       "\n",
       "    .dataframe thead th {\n",
       "        text-align: right;\n",
       "    }\n",
       "</style>\n",
       "<table border=\"1\" class=\"dataframe\">\n",
       "  <thead>\n",
       "    <tr style=\"text-align: right;\">\n",
       "      <th></th>\n",
       "      <th>transcript</th>\n",
       "    </tr>\n",
       "  </thead>\n",
       "  <tbody>\n",
       "    <tr>\n",
       "      <th>Barack Obama_2010</th>\n",
       "      <td>madam speaker vice president biden member congress distinguish guest fellow americans constitution declare time time president shall congress info...</td>\n",
       "    </tr>\n",
       "    <tr>\n",
       "      <th>Barack Obama_2011</th>\n",
       "      <td>mr speaker mr vice president member congress distinguish guest fellow americans        tonight want begin congratulate man woman   congress new sp...</td>\n",
       "    </tr>\n",
       "    <tr>\n",
       "      <th>Barack Obama_2012</th>\n",
       "      <td>mr speaker mr vice president member congress distinguish guest fellow americans month go andrews air force base welcome home troop serve iraq    o...</td>\n",
       "    </tr>\n",
       "  </tbody>\n",
       "</table>\n",
       "</div>"
      ],
      "text/plain": [
       "                                                                                                                                                              transcript\n",
       "Barack Obama_2010  madam speaker vice president biden member congress distinguish guest fellow americans constitution declare time time president shall congress info...\n",
       "Barack Obama_2011  mr speaker mr vice president member congress distinguish guest fellow americans        tonight want begin congratulate man woman   congress new sp...\n",
       "Barack Obama_2012  mr speaker mr vice president member congress distinguish guest fellow americans month go andrews air force base welcome home troop serve iraq    o..."
      ]
     },
     "execution_count": 24,
     "metadata": {},
     "output_type": "execute_result"
    }
   ],
   "source": [
    "# Let's take a look at the updated text\n",
    "data_clean = pd.DataFrame(data_df.transcript.apply(round1))\n",
    "data_clean = pd.DataFrame(data_clean.transcript.apply(round2))\n",
    "data_clean = pd.DataFrame(data_clean.transcript.apply(round3))\n",
    "data_clean = pd.DataFrame(data_clean.transcript.apply(round4))\n",
    "data_clean[:3]"
   ]
  },
  {
   "cell_type": "markdown",
   "metadata": {},
   "source": [
    "### Additional questions\n",
    "1. stemming seems to incorrect stem words, such as president is transformed into presid, and force is transformed into forc, is there any way to fix this?\n",
    "\n",
    "\n",
    "2. considering ngrams, but based on the sample code below, it groups all data by two, sometimes the combinations don't make sense such is \"presid member\" \"congress distinguish\", how can ngrams be deployed in a smarter way?"
   ]
  },
  {
   "cell_type": "code",
   "execution_count": 25,
   "metadata": {},
   "outputs": [],
   "source": [
    "#example code for bigrams \n",
    "\n",
    "#import nltk\n",
    "#from nltk.tokenize import word_tokenize\n",
    "#from nltk.util import ngrams \n",
    "\n",
    "#sentences = [\"To Sherlock Holmes she is always the woman.\", \"I have seldom heard him mention her under any other name.\"]\n",
    "\n",
    "#bigrams = []\n",
    "#for sentence in sentences:\n",
    "#    sequence = word_tokenize(sentence) \n",
    "#    bigrams.extend(list(ngrams(sequence, 2)))\n",
    "\n",
    "#freq_dist = nltk.FreqDist(bigrams)\n",
    "#prob_dist = nltk.MLEProbDist(freq_dist)\n",
    "#number_of_bigrams = freq_dist.N()\n"
   ]
  },
  {
   "cell_type": "markdown",
   "metadata": {},
   "source": [
    "## Storing the Data"
   ]
  },
  {
   "cell_type": "markdown",
   "metadata": {},
   "source": [
    "The data generated will be in two standard text formats for further analysis:\n",
    "1. <b>Document-Term Matrix</b> - a matrix containing word counts\n",
    "2. <b>Corpus</b> - a collection of text"
   ]
  },
  {
   "cell_type": "code",
   "execution_count": 26,
   "metadata": {},
   "outputs": [
    {
     "data": {
      "text/html": [
       "<div>\n",
       "<style scoped>\n",
       "    .dataframe tbody tr th:only-of-type {\n",
       "        vertical-align: middle;\n",
       "    }\n",
       "\n",
       "    .dataframe tbody tr th {\n",
       "        vertical-align: top;\n",
       "    }\n",
       "\n",
       "    .dataframe thead th {\n",
       "        text-align: right;\n",
       "    }\n",
       "</style>\n",
       "<table border=\"1\" class=\"dataframe\">\n",
       "  <thead>\n",
       "    <tr style=\"text-align: right;\">\n",
       "      <th></th>\n",
       "      <th>transcript</th>\n",
       "      <th>full_name</th>\n",
       "    </tr>\n",
       "  </thead>\n",
       "  <tbody>\n",
       "    <tr>\n",
       "      <th>Barack Obama_2010</th>\n",
       "      <td>Madam Speaker, Vice President Biden, Members of Congress, distinguished guests, and fellow Americans: Our Constitution declares that from time to ...</td>\n",
       "      <td>Barack Obama_2010</td>\n",
       "    </tr>\n",
       "    <tr>\n",
       "      <th>Barack Obama_2011</th>\n",
       "      <td>Mr. Speaker, Mr. Vice President, members of Congress, distinguished guests, and fellow Americans:\\n\\r\\n      Tonight I want to begin by congratula...</td>\n",
       "      <td>Barack Obama_2011</td>\n",
       "    </tr>\n",
       "    <tr>\n",
       "      <th>Barack Obama_2012</th>\n",
       "      <td>Mr. Speaker, Mr. Vice President, members of Congress, distinguished guests, and fellow Americans: Last month, I went to Andrews Air Force Base an...</td>\n",
       "      <td>Barack Obama_2012</td>\n",
       "    </tr>\n",
       "    <tr>\n",
       "      <th>Barack Obama_2013</th>\n",
       "      <td>\\r\\nMr. Speaker, Mr. Vice President, members of Congress, fellow citizens:  \\r\\n \\r\\nFifty-one years ago, John F. Kennedy declared to this chamber...</td>\n",
       "      <td>Barack Obama_2013</td>\n",
       "    </tr>\n",
       "    <tr>\n",
       "      <th>Barack Obama_2014</th>\n",
       "      <td>Mr. Speaker, Mr. Vice President, Members of Congress, my fellow Americans: Today in America, a teacher spent extra time with a student who needed ...</td>\n",
       "      <td>Barack Obama_2014</td>\n",
       "    </tr>\n",
       "  </tbody>\n",
       "</table>\n",
       "</div>"
      ],
      "text/plain": [
       "                                                                                                                                                              transcript  \\\n",
       "Barack Obama_2010  Madam Speaker, Vice President Biden, Members of Congress, distinguished guests, and fellow Americans: Our Constitution declares that from time to ...   \n",
       "Barack Obama_2011  Mr. Speaker, Mr. Vice President, members of Congress, distinguished guests, and fellow Americans:\\n\\r\\n      Tonight I want to begin by congratula...   \n",
       "Barack Obama_2012   Mr. Speaker, Mr. Vice President, members of Congress, distinguished guests, and fellow Americans: Last month, I went to Andrews Air Force Base an...   \n",
       "Barack Obama_2013  \\r\\nMr. Speaker, Mr. Vice President, members of Congress, fellow citizens:  \\r\\n \\r\\nFifty-one years ago, John F. Kennedy declared to this chamber...   \n",
       "Barack Obama_2014  Mr. Speaker, Mr. Vice President, Members of Congress, my fellow Americans: Today in America, a teacher spent extra time with a student who needed ...   \n",
       "\n",
       "                           full_name  \n",
       "Barack Obama_2010  Barack Obama_2010  \n",
       "Barack Obama_2011  Barack Obama_2011  \n",
       "Barack Obama_2012  Barack Obama_2012  \n",
       "Barack Obama_2013  Barack Obama_2013  \n",
       "Barack Obama_2014  Barack Obama_2014  "
      ]
     },
     "execution_count": 26,
     "metadata": {},
     "output_type": "execute_result"
    }
   ],
   "source": [
    "# this dataframe is currently using president names as index, add a column containing their name and speech year\n",
    "speech_list.sort()\n",
    "data_df['full_name'] = speech_list\n",
    "data_df.head()"
   ]
  },
  {
   "cell_type": "code",
   "execution_count": 27,
   "metadata": {},
   "outputs": [],
   "source": [
    "# create the pickle for later usage\n",
    "data_df.to_pickle(\"corpus.pkl\")"
   ]
  },
  {
   "cell_type": "code",
   "execution_count": 28,
   "metadata": {},
   "outputs": [
    {
     "data": {
      "text/html": [
       "<div>\n",
       "<style scoped>\n",
       "    .dataframe tbody tr th:only-of-type {\n",
       "        vertical-align: middle;\n",
       "    }\n",
       "\n",
       "    .dataframe tbody tr th {\n",
       "        vertical-align: top;\n",
       "    }\n",
       "\n",
       "    .dataframe thead th {\n",
       "        text-align: right;\n",
       "    }\n",
       "</style>\n",
       "<table border=\"1\" class=\"dataframe\">\n",
       "  <thead>\n",
       "    <tr style=\"text-align: right;\">\n",
       "      <th></th>\n",
       "      <th>aaron</th>\n",
       "      <th>abandon</th>\n",
       "      <th>abandonment</th>\n",
       "      <th>abbas</th>\n",
       "      <th>abdication</th>\n",
       "      <th>abduction</th>\n",
       "      <th>abhorrent</th>\n",
       "      <th>abide</th>\n",
       "      <th>ability</th>\n",
       "      <th>abilityour</th>\n",
       "      <th>...</th>\n",
       "      <th>zarfos</th>\n",
       "      <th>zarqawi</th>\n",
       "      <th>zeitchik</th>\n",
       "      <th>zero</th>\n",
       "      <th>zeroemission</th>\n",
       "      <th>zerooverall</th>\n",
       "      <th>zimbabwe</th>\n",
       "      <th>zion</th>\n",
       "      <th>zone</th>\n",
       "      <th>zoom</th>\n",
       "    </tr>\n",
       "  </thead>\n",
       "  <tbody>\n",
       "    <tr>\n",
       "      <th>Barack Obama_2010</th>\n",
       "      <td>0</td>\n",
       "      <td>0</td>\n",
       "      <td>0</td>\n",
       "      <td>0</td>\n",
       "      <td>0</td>\n",
       "      <td>0</td>\n",
       "      <td>0</td>\n",
       "      <td>1</td>\n",
       "      <td>1</td>\n",
       "      <td>0</td>\n",
       "      <td>...</td>\n",
       "      <td>0</td>\n",
       "      <td>0</td>\n",
       "      <td>0</td>\n",
       "      <td>0</td>\n",
       "      <td>0</td>\n",
       "      <td>0</td>\n",
       "      <td>0</td>\n",
       "      <td>0</td>\n",
       "      <td>0</td>\n",
       "      <td>0</td>\n",
       "    </tr>\n",
       "    <tr>\n",
       "      <th>Barack Obama_2011</th>\n",
       "      <td>0</td>\n",
       "      <td>1</td>\n",
       "      <td>0</td>\n",
       "      <td>0</td>\n",
       "      <td>0</td>\n",
       "      <td>0</td>\n",
       "      <td>0</td>\n",
       "      <td>0</td>\n",
       "      <td>0</td>\n",
       "      <td>0</td>\n",
       "      <td>...</td>\n",
       "      <td>0</td>\n",
       "      <td>0</td>\n",
       "      <td>0</td>\n",
       "      <td>0</td>\n",
       "      <td>0</td>\n",
       "      <td>0</td>\n",
       "      <td>0</td>\n",
       "      <td>0</td>\n",
       "      <td>0</td>\n",
       "      <td>0</td>\n",
       "    </tr>\n",
       "    <tr>\n",
       "      <th>Barack Obama_2012</th>\n",
       "      <td>0</td>\n",
       "      <td>0</td>\n",
       "      <td>0</td>\n",
       "      <td>0</td>\n",
       "      <td>0</td>\n",
       "      <td>0</td>\n",
       "      <td>0</td>\n",
       "      <td>0</td>\n",
       "      <td>0</td>\n",
       "      <td>0</td>\n",
       "      <td>...</td>\n",
       "      <td>0</td>\n",
       "      <td>0</td>\n",
       "      <td>0</td>\n",
       "      <td>0</td>\n",
       "      <td>0</td>\n",
       "      <td>0</td>\n",
       "      <td>0</td>\n",
       "      <td>0</td>\n",
       "      <td>0</td>\n",
       "      <td>0</td>\n",
       "    </tr>\n",
       "    <tr>\n",
       "      <th>Barack Obama_2013</th>\n",
       "      <td>0</td>\n",
       "      <td>0</td>\n",
       "      <td>0</td>\n",
       "      <td>0</td>\n",
       "      <td>0</td>\n",
       "      <td>0</td>\n",
       "      <td>0</td>\n",
       "      <td>0</td>\n",
       "      <td>3</td>\n",
       "      <td>0</td>\n",
       "      <td>...</td>\n",
       "      <td>0</td>\n",
       "      <td>0</td>\n",
       "      <td>0</td>\n",
       "      <td>0</td>\n",
       "      <td>0</td>\n",
       "      <td>0</td>\n",
       "      <td>0</td>\n",
       "      <td>0</td>\n",
       "      <td>0</td>\n",
       "      <td>0</td>\n",
       "    </tr>\n",
       "    <tr>\n",
       "      <th>Barack Obama_2014</th>\n",
       "      <td>0</td>\n",
       "      <td>0</td>\n",
       "      <td>0</td>\n",
       "      <td>0</td>\n",
       "      <td>0</td>\n",
       "      <td>0</td>\n",
       "      <td>0</td>\n",
       "      <td>0</td>\n",
       "      <td>0</td>\n",
       "      <td>0</td>\n",
       "      <td>...</td>\n",
       "      <td>0</td>\n",
       "      <td>0</td>\n",
       "      <td>0</td>\n",
       "      <td>1</td>\n",
       "      <td>0</td>\n",
       "      <td>0</td>\n",
       "      <td>0</td>\n",
       "      <td>0</td>\n",
       "      <td>0</td>\n",
       "      <td>0</td>\n",
       "    </tr>\n",
       "  </tbody>\n",
       "</table>\n",
       "<p>5 rows × 9999 columns</p>\n",
       "</div>"
      ],
      "text/plain": [
       "                   aaron  abandon  abandonment  abbas  abdication  abduction  \\\n",
       "Barack Obama_2010      0        0            0      0           0          0   \n",
       "Barack Obama_2011      0        1            0      0           0          0   \n",
       "Barack Obama_2012      0        0            0      0           0          0   \n",
       "Barack Obama_2013      0        0            0      0           0          0   \n",
       "Barack Obama_2014      0        0            0      0           0          0   \n",
       "\n",
       "                   abhorrent  abide  ability  abilityour  ...  zarfos  \\\n",
       "Barack Obama_2010          0      1        1           0  ...       0   \n",
       "Barack Obama_2011          0      0        0           0  ...       0   \n",
       "Barack Obama_2012          0      0        0           0  ...       0   \n",
       "Barack Obama_2013          0      0        3           0  ...       0   \n",
       "Barack Obama_2014          0      0        0           0  ...       0   \n",
       "\n",
       "                   zarqawi  zeitchik  zero  zeroemission  zerooverall  \\\n",
       "Barack Obama_2010        0         0     0             0            0   \n",
       "Barack Obama_2011        0         0     0             0            0   \n",
       "Barack Obama_2012        0         0     0             0            0   \n",
       "Barack Obama_2013        0         0     0             0            0   \n",
       "Barack Obama_2014        0         0     1             0            0   \n",
       "\n",
       "                   zimbabwe  zion  zone  zoom  \n",
       "Barack Obama_2010         0     0     0     0  \n",
       "Barack Obama_2011         0     0     0     0  \n",
       "Barack Obama_2012         0     0     0     0  \n",
       "Barack Obama_2013         0     0     0     0  \n",
       "Barack Obama_2014         0     0     0     0  \n",
       "\n",
       "[5 rows x 9999 columns]"
      ]
     },
     "execution_count": 28,
     "metadata": {},
     "output_type": "execute_result"
    }
   ],
   "source": [
    "# create a document-term matrix using CountVectorizer and exclude common English stop words\n",
    "from sklearn.feature_extraction.text import CountVectorizer\n",
    "cv = CountVectorizer(stop_words='english')\n",
    "data_cv = cv.fit_transform(data_clean.transcript)\n",
    "data_dtm = pd.DataFrame(data_cv.toarray(), columns=cv.get_feature_names())\n",
    "data_dtm.index = data_clean.index\n",
    "data_dtm.head()"
   ]
  },
  {
   "cell_type": "code",
   "execution_count": 29,
   "metadata": {},
   "outputs": [],
   "source": [
    "# create the pickle for later usage\n",
    "data_dtm.to_pickle(\"dtm.pkl\")"
   ]
  },
  {
   "cell_type": "code",
   "execution_count": 30,
   "metadata": {},
   "outputs": [],
   "source": [
    "# pickle the clean data as well\n",
    "data_clean.to_pickle('data_clean.pkl')\n",
    "pickle.dump(cv, open(\"cv.pkl\", \"wb\"))"
   ]
  },
  {
   "cell_type": "markdown",
   "metadata": {},
   "source": [
    "## Additional questions\n",
    "How can we adjust CountVectorizer's parameters. What is ngram_range? What is min_df and max_df?"
   ]
  }
 ],
 "metadata": {
  "kernelspec": {
   "display_name": "Python 3",
   "language": "python",
   "name": "python3"
  },
  "language_info": {
   "codemirror_mode": {
    "name": "ipython",
    "version": 3
   },
   "file_extension": ".py",
   "mimetype": "text/x-python",
   "name": "python",
   "nbconvert_exporter": "python",
   "pygments_lexer": "ipython3",
   "version": "3.7.5"
  }
 },
 "nbformat": 4,
 "nbformat_minor": 2
}
